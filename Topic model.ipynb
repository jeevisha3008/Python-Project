{
 "cells": [
  {
   "cell_type": "markdown",
   "metadata": {
    "toc": true
   },
   "source": [
    "<h1>Table of Contents<span class=\"tocSkip\"></span></h1>\n",
    "<div class=\"toc\"><ul class=\"toc-item\"></ul></div>"
   ]
  },
  {
   "cell_type": "code",
   "execution_count": 2,
   "metadata": {},
   "outputs": [],
   "source": [
    "import pandas as pd\n",
    "import seaborn as sns\n",
    "import matplotlib.pyplot as plt\n",
    "from sklearn.linear_model import LogisticRegression\n",
    "from sklearn.model_selection import train_test_split\n",
    "from sklearn.metrics import confusion_matrix\n",
    "import random\n",
    "import scipy.stats as stats\n",
    "from scipy.stats import chi2_contingency\n",
    "import sklearn.metrics as metrics\n",
    "import requests \n",
    "from bs4 import BeautifulSoup"
   ]
  },
  {
   "cell_type": "code",
   "execution_count": 2,
   "metadata": {
    "scrolled": false
   },
   "outputs": [
    {
     "name": "stdout",
     "output_type": "stream",
     "text": [
      "Requirement already satisfied: beautifulsoup4 in c:\\users\\jeevisha\\anaconda3\\lib\\site-packages (4.7.1)\n",
      "Requirement already satisfied: soupsieve>=1.2 in c:\\users\\jeevisha\\anaconda3\\lib\\site-packages (from beautifulsoup4) (1.8)\n"
     ]
    }
   ],
   "source": [
    "#!pip install beautifulsoup4"
   ]
  },
  {
   "cell_type": "code",
   "execution_count": 3,
   "metadata": {
    "scrolled": true
   },
   "outputs": [
    {
     "name": "stdout",
     "output_type": "stream",
     "text": [
      "Requirement already satisfied: requests in c:\\users\\jeevisha\\anaconda3\\lib\\site-packages (2.21.0)\n",
      "Requirement already satisfied: idna<2.9,>=2.5 in c:\\users\\jeevisha\\anaconda3\\lib\\site-packages (from requests) (2.8)\n",
      "Requirement already satisfied: certifi>=2017.4.17 in c:\\users\\jeevisha\\anaconda3\\lib\\site-packages (from requests) (2019.11.28)\n",
      "Requirement already satisfied: chardet<3.1.0,>=3.0.2 in c:\\users\\jeevisha\\anaconda3\\lib\\site-packages (from requests) (3.0.4)\n",
      "Requirement already satisfied: urllib3<1.25,>=1.21.1 in c:\\users\\jeevisha\\anaconda3\\lib\\site-packages (from requests) (1.24.1)\n"
     ]
    }
   ],
   "source": [
    "#!pip install requests"
   ]
  },
  {
   "cell_type": "code",
   "execution_count": 30,
   "metadata": {},
   "outputs": [],
   "source": [
    "\n",
    "url = \"https://www.bbc.com/news/health-52087002\"\n",
    "r = requests.get(URL) \n",
    "#print(r.content) "
   ]
  },
  {
   "cell_type": "code",
   "execution_count": 31,
   "metadata": {},
   "outputs": [],
   "source": [
    "page = r.text"
   ]
  },
  {
   "cell_type": "code",
   "execution_count": 32,
   "metadata": {},
   "outputs": [],
   "source": [
    "soup = BeautifulSoup(page)"
   ]
  },
  {
   "cell_type": "code",
   "execution_count": 33,
   "metadata": {},
   "outputs": [],
   "source": [
    "# Get headline\n",
    "headline = soup.find('h1').get_text()"
   ]
  },
  {
   "cell_type": "code",
   "execution_count": 35,
   "metadata": {},
   "outputs": [],
   "source": [
    "# Get text from all <p> tags.\n",
    "p_tags = soup.find_all('p')\n",
    "# Get the text from each of the “p” tags and strip surrounding whitespace.\n",
    "p_tags_text = [tag.get_text().strip() for tag in p_tags]"
   ]
  },
  {
   "cell_type": "code",
   "execution_count": 1,
   "metadata": {},
   "outputs": [],
   "source": [
    "#p_tags_text"
   ]
  },
  {
   "cell_type": "code",
   "execution_count": 37,
   "metadata": {},
   "outputs": [],
   "source": [
    "# Filter out sentences that contain newline characters '\\n' or don't contain periods.\n",
    "sentence_list = [sentence for sentence in p_tags_text if not '\\n' in sentence]\n",
    "sentence_list = [sentence for sentence in sentence_list if '.' in sentence]\n",
    "# Combine list items into string.\n",
    "article = ' '.join(sentence_list)"
   ]
  },
  {
   "cell_type": "code",
   "execution_count": 38,
   "metadata": {},
   "outputs": [
    {
     "data": {
      "text/plain": [
       "'A breathing aid that can help keep coronavirus patients out of intensive care has been created in under a week. University College London engineers worked with clinicians at UCLH and Mercedes Formula One to build the device, which delivers oxygen to the lungs without needing a ventilator. Continuous Positive Airway Pressure (CPAP) devices are already used in hospitals but are in short supply. China and Italy used them to help Covid-19 patients. Forty of the new devices have been delivered to ULCH and to three other London hospitals.  If trials go well, up to 1,000 of the CPAP machines can be produced per day by Mercedes-AMG-HPP, beginning in a week\\'s time. The Medicines and Healthcare products Regulatory Agency (MHRA) has already given its approval for their use. Meanwhile a consortium of UK industrial, technology and engineering business in the UK have come together to produce medical ventilators for the NHS. The \"VentilatorChallengeUK\" consortium includes Airbus, BAE Systems, Ford, Rolls-Royce and Siemens. Companies in the consortium have received orders for more than 10,000 ventilators from the government, although MHRA approval is still pending. Production is due to begin next week. Dick Elsy, chief executive of High Value Manufacturing Catapult, said: \"This consortium brings together some of the most innovative companies in the world. \"They are working together with incredible determination and energy to scale up production of much-needed ventilators and combat a virus that is affecting people in many countries.\" Professor Rebecca Shipley, Director of UCL Institute of Healthcare Engineering, told the BBC: \"Normally medical device development would take years but we\\'ve done that in days because we went back to a simple existing device and \"reverse engineered\" it in order to be able to produce them quickly and at scale.\" Reverse engineering means they took apart an existing off-patent CPAP device, copied and improved the design and adapted it for mass production. Early reports from Lombardy in Italy suggest about 50% of patients given CPAP have avoided the need for invasive mechanical ventilation. UCLH critical care consultant Professor Mervyn Singer said: \"These devices are a halfway house between a simple oxygen mask and invasive mechanical ventilation which requires patients to be sedated. \"They will help to save lives by ensuring that ventilators, a limited resource, are used only for the most severely ill.\" It pushes a steady flow of air-oxygen mix into the mouth and nose of patients. This is done at pressure which means the lungs remain open and so it increases the amount of oxygen entering them. This reduces the effort needed to breathe in, especially when the alveoli - the air sacs in the lungs - have collapsed as a result of Covid-19. Unlike a simple face mask linked to an oxygen supply, CPAP delivers air and oxygen under pressure, so there needs to be a mask creating a tight seal on the patient\\'s face, over their mouth and nose or a transparent hood over their head. This is less invasive than a ventilator, for which patients have to be heavily sedated and have a tube inserted into their airway. But a note of caution was sounded by Duncan Young, Prof of Intensive Care Medicine, University of Oxford, who said: \"The use of CPAP machines in patients with contagious respiratory infections is somewhat controversial as any small leaks round the mask could spray droplets of secretions on to attending clinical staff.\" Prof Mervyn Singer said if a tight seal is maintained on the mask or, even better, a helmet is worn, and clinical staff have adequate personal protective equipment (PPE) then this risk would be minimised. More than 2,000 Covid-19 patients are receiving CPAP on general wards in Lombardy. Andy Cowell, Managing Director of Mercedes-AMG High Performance Powertrains, said: \"The Formula One community has shown an impressive response to the call for support…we have been proud to put our resources at the service of UCL to deliver the CPAP project to the highest standards and in the fastest possible timeframe.\" As well as Mercedes F1, the collaboration also included Oxford Optronix, a small business that has manufactured oxygen monitors for the devices. Tough new anti-coronavirus rules restricting indoor and outdoor gatherings are coming in to effect.'"
      ]
     },
     "execution_count": 38,
     "metadata": {},
     "output_type": "execute_result"
    }
   ],
   "source": [
    "article"
   ]
  },
  {
   "cell_type": "code",
   "execution_count": 24,
   "metadata": {},
   "outputs": [],
   "source": [
    "#coverpage = r.content"
   ]
  },
  {
   "cell_type": "code",
   "execution_count": 25,
   "metadata": {},
   "outputs": [],
   "source": [
    "#soup = BeautifulSoup(r.text, 'html.parser')"
   ]
  },
  {
   "cell_type": "code",
   "execution_count": 26,
   "metadata": {},
   "outputs": [],
   "source": [
    "#tags = soup.find_all(id = True, href"
   ]
  },
  {
   "cell_type": "code",
   "execution_count": 18,
   "metadata": {},
   "outputs": [],
   "source": [
    "#soup = BeautifulSoup(coverpage, 'html5lib')"
   ]
  },
  {
   "cell_type": "code",
   "execution_count": 27,
   "metadata": {},
   "outputs": [],
   "source": [
    "#print(soup.prettify())"
   ]
  },
  {
   "cell_type": "code",
   "execution_count": 8,
   "metadata": {},
   "outputs": [],
   "source": [
    "#coverpage_news = soup1.find_all('h2', class_='articulo-titulo')"
   ]
  },
  {
   "cell_type": "code",
   "execution_count": null,
   "metadata": {},
   "outputs": [],
   "source": []
  }
 ],
 "metadata": {
  "kernelspec": {
   "display_name": "Python 3",
   "language": "python",
   "name": "python3"
  },
  "language_info": {
   "codemirror_mode": {
    "name": "ipython",
    "version": 3
   },
   "file_extension": ".py",
   "mimetype": "text/x-python",
   "name": "python",
   "nbconvert_exporter": "python",
   "pygments_lexer": "ipython3",
   "version": "3.7.3"
  },
  "toc": {
   "base_numbering": 1,
   "nav_menu": {},
   "number_sections": true,
   "sideBar": true,
   "skip_h1_title": false,
   "title_cell": "Table of Contents",
   "title_sidebar": "Contents",
   "toc_cell": true,
   "toc_position": {},
   "toc_section_display": true,
   "toc_window_display": false
  }
 },
 "nbformat": 4,
 "nbformat_minor": 2
}
