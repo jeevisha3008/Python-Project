{
 "cells": [
  {
   "cell_type": "markdown",
   "metadata": {},
   "source": [
    "# Topic modeling - Initial Data import and preprocessing"
   ]
  },
  {
   "cell_type": "markdown",
   "metadata": {},
   "source": [
    "In this project, we attempt to perform topic modeling on four data sets, three of which are merged to form a single dataset and one consisting of scraped articles from BBC website. \n",
    "In this part, we attempt to import the datasets obtained from https://www.kaggle.com/ and perform some basic EDA and visualizations."
   ]
  },
  {
   "cell_type": "markdown",
   "metadata": {},
   "source": [
    "### Packages Used"
   ]
  },
  {
   "cell_type": "code",
   "execution_count": null,
   "metadata": {},
   "outputs": [],
   "source": [
    "import numpy as np\n",
    "import pandas as pd\n",
    "import scipy\n",
    "import sklearn\n",
    "import spacy\n",
    "import matplotlib.pyplot as plt\n",
    "import seaborn as sns\n",
    "import re\n",
    "from collections import Counter\n",
    "import spacy\n",
    "from time import time\n",
    "%matplotlib inline\n",
    "\n",
    "import warnings\n",
    "warnings.filterwarnings(\"ignore\")"
   ]
  },
  {
   "cell_type": "markdown",
   "metadata": {},
   "source": [
    "### Import of datasets "
   ]
  },
  {
   "cell_type": "code",
   "execution_count": 2,
   "metadata": {},
   "outputs": [],
   "source": [
    "data1 = pd.read_csv(\"articles1.csv\", encoding='latin1')"
   ]
  },
  {
   "cell_type": "code",
   "execution_count": 3,
   "metadata": {},
   "outputs": [
    {
     "data": {
      "text/html": [
       "<div>\n",
       "<style scoped>\n",
       "    .dataframe tbody tr th:only-of-type {\n",
       "        vertical-align: middle;\n",
       "    }\n",
       "\n",
       "    .dataframe tbody tr th {\n",
       "        vertical-align: top;\n",
       "    }\n",
       "\n",
       "    .dataframe thead th {\n",
       "        text-align: right;\n",
       "    }\n",
       "</style>\n",
       "<table border=\"1\" class=\"dataframe\">\n",
       "  <thead>\n",
       "    <tr style=\"text-align: right;\">\n",
       "      <th></th>\n",
       "      <th>Unnamed: 0</th>\n",
       "      <th>id</th>\n",
       "      <th>title</th>\n",
       "      <th>publication</th>\n",
       "      <th>author</th>\n",
       "      <th>date</th>\n",
       "      <th>year</th>\n",
       "      <th>month</th>\n",
       "      <th>url</th>\n",
       "      <th>content</th>\n",
       "      <th>...</th>\n",
       "      <th>Unnamed: 845</th>\n",
       "      <th>Unnamed: 846</th>\n",
       "      <th>Unnamed: 847</th>\n",
       "      <th>Unnamed: 848</th>\n",
       "      <th>Unnamed: 849</th>\n",
       "      <th>Unnamed: 850</th>\n",
       "      <th>Unnamed: 851</th>\n",
       "      <th>Unnamed: 852</th>\n",
       "      <th>Unnamed: 853</th>\n",
       "      <th>Unnamed: 854</th>\n",
       "    </tr>\n",
       "  </thead>\n",
       "  <tbody>\n",
       "    <tr>\n",
       "      <th>0</th>\n",
       "      <td>0</td>\n",
       "      <td>17283</td>\n",
       "      <td>House Republicans Fret About Winning Their Hea...</td>\n",
       "      <td>New York Times</td>\n",
       "      <td>Carl Hulse</td>\n",
       "      <td>12/31/2016</td>\n",
       "      <td>2016</td>\n",
       "      <td>12</td>\n",
       "      <td>NaN</td>\n",
       "      <td>WASHINGTON  â   Congressional Republicans ha...</td>\n",
       "      <td>...</td>\n",
       "      <td>NaN</td>\n",
       "      <td>NaN</td>\n",
       "      <td>NaN</td>\n",
       "      <td>NaN</td>\n",
       "      <td>NaN</td>\n",
       "      <td>NaN</td>\n",
       "      <td>NaN</td>\n",
       "      <td>NaN</td>\n",
       "      <td>NaN</td>\n",
       "      <td>NaN</td>\n",
       "    </tr>\n",
       "    <tr>\n",
       "      <th>1</th>\n",
       "      <td>1</td>\n",
       "      <td>17284</td>\n",
       "      <td>Rift Between Officers and Residents as Killing...</td>\n",
       "      <td>New York Times</td>\n",
       "      <td>Benjamin Mueller and Al Baker</td>\n",
       "      <td>6/19/2017</td>\n",
       "      <td>2017</td>\n",
       "      <td>6</td>\n",
       "      <td>NaN</td>\n",
       "      <td>After the bullet shells get counted, the blood...</td>\n",
       "      <td>...</td>\n",
       "      <td>NaN</td>\n",
       "      <td>NaN</td>\n",
       "      <td>NaN</td>\n",
       "      <td>NaN</td>\n",
       "      <td>NaN</td>\n",
       "      <td>NaN</td>\n",
       "      <td>NaN</td>\n",
       "      <td>NaN</td>\n",
       "      <td>NaN</td>\n",
       "      <td>NaN</td>\n",
       "    </tr>\n",
       "    <tr>\n",
       "      <th>2</th>\n",
       "      <td>2</td>\n",
       "      <td>17285</td>\n",
       "      <td>Tyrus Wong, âBambiâ Artist Thwarted by Rac...</td>\n",
       "      <td>New York Times</td>\n",
       "      <td>Margalit Fox</td>\n",
       "      <td>1/6/2017</td>\n",
       "      <td>2017</td>\n",
       "      <td>1</td>\n",
       "      <td>NaN</td>\n",
       "      <td>When Walt Disneyâs âBambiâ opened in 194...</td>\n",
       "      <td>...</td>\n",
       "      <td>NaN</td>\n",
       "      <td>NaN</td>\n",
       "      <td>NaN</td>\n",
       "      <td>NaN</td>\n",
       "      <td>NaN</td>\n",
       "      <td>NaN</td>\n",
       "      <td>NaN</td>\n",
       "      <td>NaN</td>\n",
       "      <td>NaN</td>\n",
       "      <td>NaN</td>\n",
       "    </tr>\n",
       "    <tr>\n",
       "      <th>3</th>\n",
       "      <td>3</td>\n",
       "      <td>17286</td>\n",
       "      <td>Among Deaths in 2016, a Heavy Toll in Pop Musi...</td>\n",
       "      <td>New York Times</td>\n",
       "      <td>William McDonald</td>\n",
       "      <td>4/10/2017</td>\n",
       "      <td>2017</td>\n",
       "      <td>4</td>\n",
       "      <td>NaN</td>\n",
       "      <td>Death may be the great equalizer, but it isnâ...</td>\n",
       "      <td>...</td>\n",
       "      <td>NaN</td>\n",
       "      <td>NaN</td>\n",
       "      <td>NaN</td>\n",
       "      <td>NaN</td>\n",
       "      <td>NaN</td>\n",
       "      <td>NaN</td>\n",
       "      <td>NaN</td>\n",
       "      <td>NaN</td>\n",
       "      <td>NaN</td>\n",
       "      <td>NaN</td>\n",
       "    </tr>\n",
       "    <tr>\n",
       "      <th>4</th>\n",
       "      <td>4</td>\n",
       "      <td>17287</td>\n",
       "      <td>Kim Jong-un Says North Korea Is Preparing to T...</td>\n",
       "      <td>New York Times</td>\n",
       "      <td>Choe Sang-Hun</td>\n",
       "      <td>1/2/2017</td>\n",
       "      <td>2017</td>\n",
       "      <td>1</td>\n",
       "      <td>NaN</td>\n",
       "      <td>SEOUL, South Korea  â   North Koreaâs lead...</td>\n",
       "      <td>...</td>\n",
       "      <td>NaN</td>\n",
       "      <td>NaN</td>\n",
       "      <td>NaN</td>\n",
       "      <td>NaN</td>\n",
       "      <td>NaN</td>\n",
       "      <td>NaN</td>\n",
       "      <td>NaN</td>\n",
       "      <td>NaN</td>\n",
       "      <td>NaN</td>\n",
       "      <td>NaN</td>\n",
       "    </tr>\n",
       "  </tbody>\n",
       "</table>\n",
       "<p>5 rows × 855 columns</p>\n",
       "</div>"
      ],
      "text/plain": [
       "  Unnamed: 0     id                                              title  \\\n",
       "0          0  17283  House Republicans Fret About Winning Their Hea...   \n",
       "1          1  17284  Rift Between Officers and Residents as Killing...   \n",
       "2          2  17285  Tyrus Wong, âBambiâ Artist Thwarted by Rac...   \n",
       "3          3  17286  Among Deaths in 2016, a Heavy Toll in Pop Musi...   \n",
       "4          4  17287  Kim Jong-un Says North Korea Is Preparing to T...   \n",
       "\n",
       "      publication                         author        date  year month  url  \\\n",
       "0  New York Times                     Carl Hulse  12/31/2016  2016    12  NaN   \n",
       "1  New York Times  Benjamin Mueller and Al Baker   6/19/2017  2017     6  NaN   \n",
       "2  New York Times                   Margalit Fox    1/6/2017  2017     1  NaN   \n",
       "3  New York Times               William McDonald   4/10/2017  2017     4  NaN   \n",
       "4  New York Times                  Choe Sang-Hun    1/2/2017  2017     1  NaN   \n",
       "\n",
       "                                             content  ... Unnamed: 845  \\\n",
       "0  WASHINGTON  â   Congressional Republicans ha...  ...          NaN   \n",
       "1  After the bullet shells get counted, the blood...  ...          NaN   \n",
       "2  When Walt Disneyâs âBambiâ opened in 194...  ...          NaN   \n",
       "3  Death may be the great equalizer, but it isnâ...  ...          NaN   \n",
       "4  SEOUL, South Korea  â   North Koreaâs lead...  ...          NaN   \n",
       "\n",
       "  Unnamed: 846 Unnamed: 847 Unnamed: 848 Unnamed: 849 Unnamed: 850  \\\n",
       "0          NaN          NaN          NaN          NaN          NaN   \n",
       "1          NaN          NaN          NaN          NaN          NaN   \n",
       "2          NaN          NaN          NaN          NaN          NaN   \n",
       "3          NaN          NaN          NaN          NaN          NaN   \n",
       "4          NaN          NaN          NaN          NaN          NaN   \n",
       "\n",
       "  Unnamed: 851 Unnamed: 852 Unnamed: 853 Unnamed: 854  \n",
       "0          NaN          NaN          NaN          NaN  \n",
       "1          NaN          NaN          NaN          NaN  \n",
       "2          NaN          NaN          NaN          NaN  \n",
       "3          NaN          NaN          NaN          NaN  \n",
       "4          NaN          NaN          NaN          NaN  \n",
       "\n",
       "[5 rows x 855 columns]"
      ]
     },
     "execution_count": 3,
     "metadata": {},
     "output_type": "execute_result"
    }
   ],
   "source": [
    "data1.head()"
   ]
  },
  {
   "cell_type": "code",
   "execution_count": 4,
   "metadata": {},
   "outputs": [],
   "source": [
    "data2 = pd.read_csv(\"articles2.csv\")"
   ]
  },
  {
   "cell_type": "code",
   "execution_count": 5,
   "metadata": {},
   "outputs": [
    {
     "data": {
      "text/html": [
       "<div>\n",
       "<style scoped>\n",
       "    .dataframe tbody tr th:only-of-type {\n",
       "        vertical-align: middle;\n",
       "    }\n",
       "\n",
       "    .dataframe tbody tr th {\n",
       "        vertical-align: top;\n",
       "    }\n",
       "\n",
       "    .dataframe thead th {\n",
       "        text-align: right;\n",
       "    }\n",
       "</style>\n",
       "<table border=\"1\" class=\"dataframe\">\n",
       "  <thead>\n",
       "    <tr style=\"text-align: right;\">\n",
       "      <th></th>\n",
       "      <th>Unnamed: 0</th>\n",
       "      <th>id</th>\n",
       "      <th>title</th>\n",
       "      <th>publication</th>\n",
       "      <th>author</th>\n",
       "      <th>date</th>\n",
       "      <th>year</th>\n",
       "      <th>month</th>\n",
       "      <th>url</th>\n",
       "      <th>content</th>\n",
       "    </tr>\n",
       "  </thead>\n",
       "  <tbody>\n",
       "    <tr>\n",
       "      <th>0</th>\n",
       "      <td>53293</td>\n",
       "      <td>73471</td>\n",
       "      <td>Patriots Day Is Best When It Digs Past the Her...</td>\n",
       "      <td>Atlantic</td>\n",
       "      <td>David Sims</td>\n",
       "      <td>2017-01-11</td>\n",
       "      <td>2017.0</td>\n",
       "      <td>1.0</td>\n",
       "      <td>NaN</td>\n",
       "      <td>Patriots Day, Peter Berg’s new thriller that r...</td>\n",
       "    </tr>\n",
       "    <tr>\n",
       "      <th>1</th>\n",
       "      <td>53294</td>\n",
       "      <td>73472</td>\n",
       "      <td>A Break in the Search for the Origin of Comple...</td>\n",
       "      <td>Atlantic</td>\n",
       "      <td>Ed Yong</td>\n",
       "      <td>2017-01-11</td>\n",
       "      <td>2017.0</td>\n",
       "      <td>1.0</td>\n",
       "      <td>NaN</td>\n",
       "      <td>In Norse mythology, humans and our world were ...</td>\n",
       "    </tr>\n",
       "    <tr>\n",
       "      <th>2</th>\n",
       "      <td>53295</td>\n",
       "      <td>73474</td>\n",
       "      <td>Obama’s Ingenious Mention of Atticus Finch</td>\n",
       "      <td>Atlantic</td>\n",
       "      <td>Spencer Kornhaber</td>\n",
       "      <td>2017-01-11</td>\n",
       "      <td>2017.0</td>\n",
       "      <td>1.0</td>\n",
       "      <td>NaN</td>\n",
       "      <td>“If our democracy is to work in this increasin...</td>\n",
       "    </tr>\n",
       "    <tr>\n",
       "      <th>3</th>\n",
       "      <td>53296</td>\n",
       "      <td>73475</td>\n",
       "      <td>Donald Trump Meets, and Assails, the Press</td>\n",
       "      <td>Atlantic</td>\n",
       "      <td>David A. Graham</td>\n",
       "      <td>2017-01-11</td>\n",
       "      <td>2017.0</td>\n",
       "      <td>1.0</td>\n",
       "      <td>NaN</td>\n",
       "      <td>Updated on January 11 at 5:05 p. m. In his fir...</td>\n",
       "    </tr>\n",
       "    <tr>\n",
       "      <th>4</th>\n",
       "      <td>53297</td>\n",
       "      <td>73476</td>\n",
       "      <td>Trump: ’I Think’ Hacking Was Russian</td>\n",
       "      <td>Atlantic</td>\n",
       "      <td>Kaveh Waddell</td>\n",
       "      <td>2017-01-11</td>\n",
       "      <td>2017.0</td>\n",
       "      <td>1.0</td>\n",
       "      <td>NaN</td>\n",
       "      <td>Updated at 12:25 p. m. After months of equivoc...</td>\n",
       "    </tr>\n",
       "  </tbody>\n",
       "</table>\n",
       "</div>"
      ],
      "text/plain": [
       "   Unnamed: 0     id                                              title  \\\n",
       "0       53293  73471  Patriots Day Is Best When It Digs Past the Her...   \n",
       "1       53294  73472  A Break in the Search for the Origin of Comple...   \n",
       "2       53295  73474         Obama’s Ingenious Mention of Atticus Finch   \n",
       "3       53296  73475         Donald Trump Meets, and Assails, the Press   \n",
       "4       53297  73476               Trump: ’I Think’ Hacking Was Russian   \n",
       "\n",
       "  publication             author        date    year  month  url  \\\n",
       "0    Atlantic         David Sims  2017-01-11  2017.0    1.0  NaN   \n",
       "1    Atlantic            Ed Yong  2017-01-11  2017.0    1.0  NaN   \n",
       "2    Atlantic  Spencer Kornhaber  2017-01-11  2017.0    1.0  NaN   \n",
       "3    Atlantic    David A. Graham  2017-01-11  2017.0    1.0  NaN   \n",
       "4    Atlantic      Kaveh Waddell  2017-01-11  2017.0    1.0  NaN   \n",
       "\n",
       "                                             content  \n",
       "0  Patriots Day, Peter Berg’s new thriller that r...  \n",
       "1  In Norse mythology, humans and our world were ...  \n",
       "2  “If our democracy is to work in this increasin...  \n",
       "3  Updated on January 11 at 5:05 p. m. In his fir...  \n",
       "4  Updated at 12:25 p. m. After months of equivoc...  "
      ]
     },
     "execution_count": 5,
     "metadata": {},
     "output_type": "execute_result"
    }
   ],
   "source": [
    "data2.head()"
   ]
  },
  {
   "cell_type": "code",
   "execution_count": 6,
   "metadata": {},
   "outputs": [
    {
     "name": "stdout",
     "output_type": "stream",
     "text": [
      "<class 'pandas.core.frame.DataFrame'>\n",
      "RangeIndex: 50120 entries, 0 to 50119\n",
      "Columns: 855 entries, Unnamed: 0 to Unnamed: 854\n",
      "dtypes: float64(5), object(850)\n",
      "memory usage: 326.9+ MB\n"
     ]
    }
   ],
   "source": [
    "data1.info()"
   ]
  },
  {
   "cell_type": "code",
   "execution_count": 42,
   "metadata": {},
   "outputs": [
    {
     "data": {
      "text/plain": [
       "(50120, 855)"
      ]
     },
     "execution_count": 42,
     "metadata": {},
     "output_type": "execute_result"
    }
   ],
   "source": [
    "data1.shape"
   ]
  },
  {
   "cell_type": "markdown",
   "metadata": {},
   "source": [
    "We can see that these datasets have the same columns and also in the same order. Hence we append all the three datasets together and work on it as a whole."
   ]
  },
  {
   "cell_type": "code",
   "execution_count": 8,
   "metadata": {},
   "outputs": [],
   "source": [
    "data3 = pd.read_csv(\"articles3.csv\")"
   ]
  },
  {
   "cell_type": "code",
   "execution_count": 9,
   "metadata": {},
   "outputs": [],
   "source": [
    "data = data1.append(data2)"
   ]
  },
  {
   "cell_type": "code",
   "execution_count": 10,
   "metadata": {},
   "outputs": [
    {
     "data": {
      "text/html": [
       "<div>\n",
       "<style scoped>\n",
       "    .dataframe tbody tr th:only-of-type {\n",
       "        vertical-align: middle;\n",
       "    }\n",
       "\n",
       "    .dataframe tbody tr th {\n",
       "        vertical-align: top;\n",
       "    }\n",
       "\n",
       "    .dataframe thead th {\n",
       "        text-align: right;\n",
       "    }\n",
       "</style>\n",
       "<table border=\"1\" class=\"dataframe\">\n",
       "  <thead>\n",
       "    <tr style=\"text-align: right;\">\n",
       "      <th></th>\n",
       "      <th>Unnamed: 0</th>\n",
       "      <th>id</th>\n",
       "      <th>title</th>\n",
       "      <th>publication</th>\n",
       "      <th>author</th>\n",
       "      <th>date</th>\n",
       "      <th>year</th>\n",
       "      <th>month</th>\n",
       "      <th>url</th>\n",
       "      <th>content</th>\n",
       "      <th>...</th>\n",
       "      <th>Unnamed: 845</th>\n",
       "      <th>Unnamed: 846</th>\n",
       "      <th>Unnamed: 847</th>\n",
       "      <th>Unnamed: 848</th>\n",
       "      <th>Unnamed: 849</th>\n",
       "      <th>Unnamed: 850</th>\n",
       "      <th>Unnamed: 851</th>\n",
       "      <th>Unnamed: 852</th>\n",
       "      <th>Unnamed: 853</th>\n",
       "      <th>Unnamed: 854</th>\n",
       "    </tr>\n",
       "  </thead>\n",
       "  <tbody>\n",
       "    <tr>\n",
       "      <th>0</th>\n",
       "      <td>0</td>\n",
       "      <td>17283</td>\n",
       "      <td>House Republicans Fret About Winning Their Hea...</td>\n",
       "      <td>New York Times</td>\n",
       "      <td>Carl Hulse</td>\n",
       "      <td>12/31/2016</td>\n",
       "      <td>2016</td>\n",
       "      <td>12</td>\n",
       "      <td>NaN</td>\n",
       "      <td>WASHINGTON  â   Congressional Republicans ha...</td>\n",
       "      <td>...</td>\n",
       "      <td>NaN</td>\n",
       "      <td>NaN</td>\n",
       "      <td>NaN</td>\n",
       "      <td>NaN</td>\n",
       "      <td>NaN</td>\n",
       "      <td>NaN</td>\n",
       "      <td>NaN</td>\n",
       "      <td>NaN</td>\n",
       "      <td>NaN</td>\n",
       "      <td>NaN</td>\n",
       "    </tr>\n",
       "    <tr>\n",
       "      <th>1</th>\n",
       "      <td>1</td>\n",
       "      <td>17284</td>\n",
       "      <td>Rift Between Officers and Residents as Killing...</td>\n",
       "      <td>New York Times</td>\n",
       "      <td>Benjamin Mueller and Al Baker</td>\n",
       "      <td>6/19/2017</td>\n",
       "      <td>2017</td>\n",
       "      <td>6</td>\n",
       "      <td>NaN</td>\n",
       "      <td>After the bullet shells get counted, the blood...</td>\n",
       "      <td>...</td>\n",
       "      <td>NaN</td>\n",
       "      <td>NaN</td>\n",
       "      <td>NaN</td>\n",
       "      <td>NaN</td>\n",
       "      <td>NaN</td>\n",
       "      <td>NaN</td>\n",
       "      <td>NaN</td>\n",
       "      <td>NaN</td>\n",
       "      <td>NaN</td>\n",
       "      <td>NaN</td>\n",
       "    </tr>\n",
       "    <tr>\n",
       "      <th>2</th>\n",
       "      <td>2</td>\n",
       "      <td>17285</td>\n",
       "      <td>Tyrus Wong, âBambiâ Artist Thwarted by Rac...</td>\n",
       "      <td>New York Times</td>\n",
       "      <td>Margalit Fox</td>\n",
       "      <td>1/6/2017</td>\n",
       "      <td>2017</td>\n",
       "      <td>1</td>\n",
       "      <td>NaN</td>\n",
       "      <td>When Walt Disneyâs âBambiâ opened in 194...</td>\n",
       "      <td>...</td>\n",
       "      <td>NaN</td>\n",
       "      <td>NaN</td>\n",
       "      <td>NaN</td>\n",
       "      <td>NaN</td>\n",
       "      <td>NaN</td>\n",
       "      <td>NaN</td>\n",
       "      <td>NaN</td>\n",
       "      <td>NaN</td>\n",
       "      <td>NaN</td>\n",
       "      <td>NaN</td>\n",
       "    </tr>\n",
       "    <tr>\n",
       "      <th>3</th>\n",
       "      <td>3</td>\n",
       "      <td>17286</td>\n",
       "      <td>Among Deaths in 2016, a Heavy Toll in Pop Musi...</td>\n",
       "      <td>New York Times</td>\n",
       "      <td>William McDonald</td>\n",
       "      <td>4/10/2017</td>\n",
       "      <td>2017</td>\n",
       "      <td>4</td>\n",
       "      <td>NaN</td>\n",
       "      <td>Death may be the great equalizer, but it isnâ...</td>\n",
       "      <td>...</td>\n",
       "      <td>NaN</td>\n",
       "      <td>NaN</td>\n",
       "      <td>NaN</td>\n",
       "      <td>NaN</td>\n",
       "      <td>NaN</td>\n",
       "      <td>NaN</td>\n",
       "      <td>NaN</td>\n",
       "      <td>NaN</td>\n",
       "      <td>NaN</td>\n",
       "      <td>NaN</td>\n",
       "    </tr>\n",
       "    <tr>\n",
       "      <th>4</th>\n",
       "      <td>4</td>\n",
       "      <td>17287</td>\n",
       "      <td>Kim Jong-un Says North Korea Is Preparing to T...</td>\n",
       "      <td>New York Times</td>\n",
       "      <td>Choe Sang-Hun</td>\n",
       "      <td>1/2/2017</td>\n",
       "      <td>2017</td>\n",
       "      <td>1</td>\n",
       "      <td>NaN</td>\n",
       "      <td>SEOUL, South Korea  â   North Koreaâs lead...</td>\n",
       "      <td>...</td>\n",
       "      <td>NaN</td>\n",
       "      <td>NaN</td>\n",
       "      <td>NaN</td>\n",
       "      <td>NaN</td>\n",
       "      <td>NaN</td>\n",
       "      <td>NaN</td>\n",
       "      <td>NaN</td>\n",
       "      <td>NaN</td>\n",
       "      <td>NaN</td>\n",
       "      <td>NaN</td>\n",
       "    </tr>\n",
       "    <tr>\n",
       "      <th>...</th>\n",
       "      <td>...</td>\n",
       "      <td>...</td>\n",
       "      <td>...</td>\n",
       "      <td>...</td>\n",
       "      <td>...</td>\n",
       "      <td>...</td>\n",
       "      <td>...</td>\n",
       "      <td>...</td>\n",
       "      <td>...</td>\n",
       "      <td>...</td>\n",
       "      <td>...</td>\n",
       "      <td>...</td>\n",
       "      <td>...</td>\n",
       "      <td>...</td>\n",
       "      <td>...</td>\n",
       "      <td>...</td>\n",
       "      <td>...</td>\n",
       "      <td>...</td>\n",
       "      <td>...</td>\n",
       "      <td>...</td>\n",
       "      <td>...</td>\n",
       "    </tr>\n",
       "    <tr>\n",
       "      <th>42566</th>\n",
       "      <td>146028</td>\n",
       "      <td>218078</td>\n",
       "      <td>An eavesdropping Uber driver saved his 16-year...</td>\n",
       "      <td>Washington Post</td>\n",
       "      <td>Avi Selk</td>\n",
       "      <td>2016-12-30</td>\n",
       "      <td>2016</td>\n",
       "      <td>12</td>\n",
       "      <td>https://web.archive.org/web/20161231004909/htt...</td>\n",
       "      <td>Uber driver Keith Avila picked up a p...</td>\n",
       "      <td>...</td>\n",
       "      <td>NaN</td>\n",
       "      <td>NaN</td>\n",
       "      <td>NaN</td>\n",
       "      <td>NaN</td>\n",
       "      <td>NaN</td>\n",
       "      <td>NaN</td>\n",
       "      <td>NaN</td>\n",
       "      <td>NaN</td>\n",
       "      <td>NaN</td>\n",
       "      <td>NaN</td>\n",
       "    </tr>\n",
       "    <tr>\n",
       "      <th>42567</th>\n",
       "      <td>146029</td>\n",
       "      <td>218079</td>\n",
       "      <td>Plane carrying six people returning from a Cav...</td>\n",
       "      <td>Washington Post</td>\n",
       "      <td>Sarah Larimer</td>\n",
       "      <td>2016-12-30</td>\n",
       "      <td>2016</td>\n",
       "      <td>12</td>\n",
       "      <td>https://web.archive.org/web/20161231004909/htt...</td>\n",
       "      <td>Crews on Friday continued to search L...</td>\n",
       "      <td>...</td>\n",
       "      <td>NaN</td>\n",
       "      <td>NaN</td>\n",
       "      <td>NaN</td>\n",
       "      <td>NaN</td>\n",
       "      <td>NaN</td>\n",
       "      <td>NaN</td>\n",
       "      <td>NaN</td>\n",
       "      <td>NaN</td>\n",
       "      <td>NaN</td>\n",
       "      <td>NaN</td>\n",
       "    </tr>\n",
       "    <tr>\n",
       "      <th>42568</th>\n",
       "      <td>146030</td>\n",
       "      <td>218080</td>\n",
       "      <td>After helping a fraction of homeowners expecte...</td>\n",
       "      <td>Washington Post</td>\n",
       "      <td>Renae Merle</td>\n",
       "      <td>2016-12-30</td>\n",
       "      <td>2016</td>\n",
       "      <td>12</td>\n",
       "      <td>https://web.archive.org/web/20161231004909/htt...</td>\n",
       "      <td>When the Obama administration announced a...</td>\n",
       "      <td>...</td>\n",
       "      <td>NaN</td>\n",
       "      <td>NaN</td>\n",
       "      <td>NaN</td>\n",
       "      <td>NaN</td>\n",
       "      <td>NaN</td>\n",
       "      <td>NaN</td>\n",
       "      <td>NaN</td>\n",
       "      <td>NaN</td>\n",
       "      <td>NaN</td>\n",
       "      <td>NaN</td>\n",
       "    </tr>\n",
       "    <tr>\n",
       "      <th>42569</th>\n",
       "      <td>146031</td>\n",
       "      <td>218081</td>\n",
       "      <td>Yes, this is real: Michigan just banned bannin...</td>\n",
       "      <td>Washington Post</td>\n",
       "      <td>Chelsea Harvey</td>\n",
       "      <td>2016-12-30</td>\n",
       "      <td>2016</td>\n",
       "      <td>12</td>\n",
       "      <td>https://web.archive.org/web/20161231004909/htt...</td>\n",
       "      <td>This story has been updated. A new law in...</td>\n",
       "      <td>...</td>\n",
       "      <td>NaN</td>\n",
       "      <td>NaN</td>\n",
       "      <td>NaN</td>\n",
       "      <td>NaN</td>\n",
       "      <td>NaN</td>\n",
       "      <td>NaN</td>\n",
       "      <td>NaN</td>\n",
       "      <td>NaN</td>\n",
       "      <td>NaN</td>\n",
       "      <td>NaN</td>\n",
       "    </tr>\n",
       "    <tr>\n",
       "      <th>42570</th>\n",
       "      <td>146032</td>\n",
       "      <td>218082</td>\n",
       "      <td>What happened in Washington state after voters...</td>\n",
       "      <td>Washington Post</td>\n",
       "      <td>Christopher Ingraham</td>\n",
       "      <td>2016-12-29</td>\n",
       "      <td>2016</td>\n",
       "      <td>12</td>\n",
       "      <td>https://web.archive.org/web/20161231004909/htt...</td>\n",
       "      <td>The nation’s first recreational marijuana...</td>\n",
       "      <td>...</td>\n",
       "      <td>NaN</td>\n",
       "      <td>NaN</td>\n",
       "      <td>NaN</td>\n",
       "      <td>NaN</td>\n",
       "      <td>NaN</td>\n",
       "      <td>NaN</td>\n",
       "      <td>NaN</td>\n",
       "      <td>NaN</td>\n",
       "      <td>NaN</td>\n",
       "      <td>NaN</td>\n",
       "    </tr>\n",
       "  </tbody>\n",
       "</table>\n",
       "<p>142690 rows × 855 columns</p>\n",
       "</div>"
      ],
      "text/plain": [
       "      Unnamed: 0      id                                              title  \\\n",
       "0              0   17283  House Republicans Fret About Winning Their Hea...   \n",
       "1              1   17284  Rift Between Officers and Residents as Killing...   \n",
       "2              2   17285  Tyrus Wong, âBambiâ Artist Thwarted by Rac...   \n",
       "3              3   17286  Among Deaths in 2016, a Heavy Toll in Pop Musi...   \n",
       "4              4   17287  Kim Jong-un Says North Korea Is Preparing to T...   \n",
       "...          ...     ...                                                ...   \n",
       "42566     146028  218078  An eavesdropping Uber driver saved his 16-year...   \n",
       "42567     146029  218079  Plane carrying six people returning from a Cav...   \n",
       "42568     146030  218080  After helping a fraction of homeowners expecte...   \n",
       "42569     146031  218081  Yes, this is real: Michigan just banned bannin...   \n",
       "42570     146032  218082  What happened in Washington state after voters...   \n",
       "\n",
       "           publication                         author        date  year month  \\\n",
       "0       New York Times                     Carl Hulse  12/31/2016  2016    12   \n",
       "1       New York Times  Benjamin Mueller and Al Baker   6/19/2017  2017     6   \n",
       "2       New York Times                   Margalit Fox    1/6/2017  2017     1   \n",
       "3       New York Times               William McDonald   4/10/2017  2017     4   \n",
       "4       New York Times                  Choe Sang-Hun    1/2/2017  2017     1   \n",
       "...                ...                            ...         ...   ...   ...   \n",
       "42566  Washington Post                       Avi Selk  2016-12-30  2016    12   \n",
       "42567  Washington Post                  Sarah Larimer  2016-12-30  2016    12   \n",
       "42568  Washington Post                    Renae Merle  2016-12-30  2016    12   \n",
       "42569  Washington Post                 Chelsea Harvey  2016-12-30  2016    12   \n",
       "42570  Washington Post           Christopher Ingraham  2016-12-29  2016    12   \n",
       "\n",
       "                                                     url  \\\n",
       "0                                                    NaN   \n",
       "1                                                    NaN   \n",
       "2                                                    NaN   \n",
       "3                                                    NaN   \n",
       "4                                                    NaN   \n",
       "...                                                  ...   \n",
       "42566  https://web.archive.org/web/20161231004909/htt...   \n",
       "42567  https://web.archive.org/web/20161231004909/htt...   \n",
       "42568  https://web.archive.org/web/20161231004909/htt...   \n",
       "42569  https://web.archive.org/web/20161231004909/htt...   \n",
       "42570  https://web.archive.org/web/20161231004909/htt...   \n",
       "\n",
       "                                                 content  ... Unnamed: 845  \\\n",
       "0      WASHINGTON  â   Congressional Republicans ha...  ...          NaN   \n",
       "1      After the bullet shells get counted, the blood...  ...          NaN   \n",
       "2      When Walt Disneyâs âBambiâ opened in 194...  ...          NaN   \n",
       "3      Death may be the great equalizer, but it isnâ...  ...          NaN   \n",
       "4      SEOUL, South Korea  â   North Koreaâs lead...  ...          NaN   \n",
       "...                                                  ...  ...          ...   \n",
       "42566           Uber driver Keith Avila picked up a p...  ...          NaN   \n",
       "42567           Crews on Friday continued to search L...  ...          NaN   \n",
       "42568       When the Obama administration announced a...  ...          NaN   \n",
       "42569       This story has been updated. A new law in...  ...          NaN   \n",
       "42570       The nation’s first recreational marijuana...  ...          NaN   \n",
       "\n",
       "      Unnamed: 846 Unnamed: 847 Unnamed: 848 Unnamed: 849 Unnamed: 850  \\\n",
       "0              NaN          NaN          NaN          NaN          NaN   \n",
       "1              NaN          NaN          NaN          NaN          NaN   \n",
       "2              NaN          NaN          NaN          NaN          NaN   \n",
       "3              NaN          NaN          NaN          NaN          NaN   \n",
       "4              NaN          NaN          NaN          NaN          NaN   \n",
       "...            ...          ...          ...          ...          ...   \n",
       "42566          NaN          NaN          NaN          NaN          NaN   \n",
       "42567          NaN          NaN          NaN          NaN          NaN   \n",
       "42568          NaN          NaN          NaN          NaN          NaN   \n",
       "42569          NaN          NaN          NaN          NaN          NaN   \n",
       "42570          NaN          NaN          NaN          NaN          NaN   \n",
       "\n",
       "      Unnamed: 851 Unnamed: 852 Unnamed: 853 Unnamed: 854  \n",
       "0              NaN          NaN          NaN          NaN  \n",
       "1              NaN          NaN          NaN          NaN  \n",
       "2              NaN          NaN          NaN          NaN  \n",
       "3              NaN          NaN          NaN          NaN  \n",
       "4              NaN          NaN          NaN          NaN  \n",
       "...            ...          ...          ...          ...  \n",
       "42566          NaN          NaN          NaN          NaN  \n",
       "42567          NaN          NaN          NaN          NaN  \n",
       "42568          NaN          NaN          NaN          NaN  \n",
       "42569          NaN          NaN          NaN          NaN  \n",
       "42570          NaN          NaN          NaN          NaN  \n",
       "\n",
       "[142690 rows x 855 columns]"
      ]
     },
     "execution_count": 10,
     "metadata": {},
     "output_type": "execute_result"
    }
   ],
   "source": [
    "data.append(data3)"
   ]
  },
  {
   "cell_type": "markdown",
   "metadata": {},
   "source": [
    "The combined dataset has 142690 rows and 855 columns. "
   ]
  },
  {
   "cell_type": "markdown",
   "metadata": {},
   "source": [
    "Now to find the Null values in the datasets."
   ]
  },
  {
   "cell_type": "code",
   "execution_count": 44,
   "metadata": {},
   "outputs": [
    {
     "data": {
      "text/plain": [
       "Unnamed: 0           3\n",
       "id                   3\n",
       "title                6\n",
       "publication          7\n",
       "author           14911\n",
       "                 ...  \n",
       "Unnamed: 851    100118\n",
       "Unnamed: 852    100118\n",
       "Unnamed: 853    100118\n",
       "Unnamed: 854    100118\n",
       "id2                106\n",
       "Length: 856, dtype: int64"
      ]
     },
     "execution_count": 44,
     "metadata": {},
     "output_type": "execute_result"
    }
   ],
   "source": [
    "data.isnull().sum()"
   ]
  },
  {
   "cell_type": "markdown",
   "metadata": {},
   "source": [
    "Now we examine the size of the articles in the dataset. We take statistical summary of the article content."
   ]
  },
  {
   "cell_type": "code",
   "execution_count": 12,
   "metadata": {},
   "outputs": [
    {
     "name": "stdout",
     "output_type": "stream",
     "text": [
      "count    100108.000000\n",
      "mean       4053.986135\n",
      "std        4389.325293\n",
      "min           1.000000\n",
      "25%        1723.000000\n",
      "50%        3049.000000\n",
      "75%        5102.000000\n",
      "max      164658.000000\n",
      "Name: content, dtype: float64\n"
     ]
    }
   ],
   "source": [
    "lengths = pd.Series(data['content'].str.len())\n",
    "print(lengths.describe())"
   ]
  },
  {
   "cell_type": "code",
   "execution_count": 45,
   "metadata": {},
   "outputs": [],
   "source": [
    "data.reset_index(drop=True, inplace=True)"
   ]
  },
  {
   "cell_type": "markdown",
   "metadata": {},
   "source": [
    "We attempt to remove all abnormal values here by removing all the rows which have non numeric values for Id columns"
   ]
  },
  {
   "cell_type": "code",
   "execution_count": 46,
   "metadata": {},
   "outputs": [],
   "source": [
    "for i in range(data.shape[0]):\n",
    "    try:\n",
    "        data.loc[i,'id2']= int(data.loc[i,'id'])\n",
    "    except:\n",
    "        data.loc[i,'id2']=np.nan"
   ]
  },
  {
   "cell_type": "code",
   "execution_count": 47,
   "metadata": {},
   "outputs": [
    {
     "data": {
      "text/plain": [
       "count    100013.000000\n",
       "mean      79463.737454\n",
       "std       40545.921374\n",
       "min        2016.000000\n",
       "25%       43747.000000\n",
       "50%       73462.000000\n",
       "75%      119043.000000\n",
       "max      151906.000000\n",
       "Name: id2, dtype: float64"
      ]
     },
     "execution_count": 47,
     "metadata": {},
     "output_type": "execute_result"
    }
   ],
   "source": [
    "#removing rows with abnormal values in ID column\n",
    "d2=data.loc[~data['id2'].isna()]\n",
    "d2['id2'].describe()"
   ]
  },
  {
   "cell_type": "code",
   "execution_count": 48,
   "metadata": {},
   "outputs": [
    {
     "data": {
      "text/plain": [
       "id2\n",
       "17283.0     35969.0\n",
       "17284.0     35970.0\n",
       "17285.0     35971.0\n",
       "17286.0     35972.0\n",
       "17287.0     35973.0\n",
       "             ...   \n",
       "151902.0        NaN\n",
       "151903.0        NaN\n",
       "151904.0        NaN\n",
       "151905.0        NaN\n",
       "151906.0        NaN\n",
       "Name: id2, Length: 100013, dtype: float64"
      ]
     },
     "execution_count": 48,
     "metadata": {},
     "output_type": "execute_result"
    }
   ],
   "source": [
    "d2['id2'][d2['id2']]"
   ]
  },
  {
   "cell_type": "markdown",
   "metadata": {},
   "source": [
    "### Examining the data through visualizations"
   ]
  },
  {
   "cell_type": "markdown",
   "metadata": {},
   "source": [
    "First, let us look at the article count of the publications listed in the dataset"
   ]
  },
  {
   "cell_type": "code",
   "execution_count": 49,
   "metadata": {},
   "outputs": [],
   "source": [
    "d2 = d2.groupby(\"publication\").filter(lambda x: len(x) > 1)"
   ]
  },
  {
   "cell_type": "code",
   "execution_count": 53,
   "metadata": {},
   "outputs": [
    {
     "data": {
      "image/png": "[encoded data removed]",
      "text/plain": [
       "<Figure size 864x576 with 1 Axes>"
      ]
     },
     "metadata": {
      "needs_background": "light"
     },
     "output_type": "display_data"
    }
   ],
   "source": [
    "ax = d2['publication'].value_counts().plot(kind='bar', fontsize=14, figsize=(12,8), color=\"palegreen\")\n",
    "ax.set_title('Article Count \\n', fontsize=20)\n",
    "ax.set_xlabel('Publication', fontsize=18)\n",
    "ax.set_ylabel('Count', fontsize=18)\n",
    "plt.tight_layout()\n",
    "sns.despine();"
   ]
  },
  {
   "cell_type": "markdown",
   "metadata": {},
   "source": [
    "Looks like Breitbart has the most number of articles followed by New York Post"
   ]
  },
  {
   "cell_type": "markdown",
   "metadata": {},
   "source": [
    "Let us now look at the trend of number of words in an article "
   ]
  },
  {
   "cell_type": "code",
   "execution_count": 19,
   "metadata": {},
   "outputs": [],
   "source": [
    "import string\n",
    "def clean_text(d2):\n",
    "    # removes punctuation and converts all the text to lower case\n",
    "    clean1 = re.sub(r'['+string.punctuation + '’—”'+']', \"\", d2.lower())\n",
    "    return re.sub(r'\\W+', ' ', clean1)\n",
    "\n",
    "d2['tokenized'] = d2['content'].map(lambda x: clean_text(x))\n",
    "d2['num_words'] = d2['tokenized'].apply(lambda x: len(x.split()))\n",
    "\n",
    "d2 = d2[d2['num_words']>0]"
   ]
  },
  {
   "cell_type": "code",
   "execution_count": 20,
   "metadata": {},
   "outputs": [
    {
     "data": {
      "image/png": "[encoded data removed]",
      "text/plain": [
       "<Figure size 864x432 with 1 Axes>"
      ]
     },
     "metadata": {
      "needs_background": "light"
     },
     "output_type": "display_data"
    }
   ],
   "source": [
    "ax=d2['num_words'].plot(kind='hist', bins=50, fontsize=14, figsize=(12,6), color=\"green\")\n",
    "ax.set_title('Article Length in Words\\n', fontsize=20)\n",
    "ax.set_ylabel('Frequency', fontsize=18)\n",
    "ax.set_xlabel('Number of Words', fontsize=18)\n",
    "ax.set_yscale(\"log\")\n",
    "plt.tight_layout()\n",
    "sns.despine();"
   ]
  },
  {
   "cell_type": "markdown",
   "metadata": {},
   "source": [
    "Unique words per article"
   ]
  },
  {
   "cell_type": "code",
   "execution_count": 21,
   "metadata": {},
   "outputs": [
    {
     "data": {
      "image/png": "[encoded data removed]",
      "text/plain": [
       "<Figure size 864x432 with 1 Axes>"
      ]
     },
     "metadata": {
      "needs_background": "light"
     },
     "output_type": "display_data"
    }
   ],
   "source": [
    "# number of unique words in each article\n",
    "d2['unique_words'] = d2['tokenized'].str.split().apply(lambda x: len(set(x)))\n",
    "\n",
    "ax=d2['unique_words'].plot(kind='hist', bins=50, fontsize=14, figsize=(12,6), color=\"blue\")\n",
    "ax.set_title('Unique Words Per Article\\n', fontsize=20)\n",
    "ax.set_ylabel('Frequency', fontsize=18)\n",
    "ax.set_xlabel('Number of Unique Words', fontsize=18)\n",
    "ax.set_yscale(\"log\")\n",
    "plt.tight_layout()\n",
    "sns.despine();"
   ]
  },
  {
   "cell_type": "code",
   "execution_count": 22,
   "metadata": {},
   "outputs": [
    {
     "data": {
      "image/png": "[encoded data removed]",
      "text/plain": [
       "<Figure size 864x432 with 2 Axes>"
      ]
     },
     "metadata": {
      "needs_background": "light"
     },
     "output_type": "display_data"
    }
   ],
   "source": [
    "article_groups = d2.groupby('publication')\n",
    "\n",
    "publications = article_groups['num_words'].aggregate(np.mean).index.tolist()\n",
    "avg_words = article_groups['num_words'].aggregate(np.mean).values\n",
    "unique_words = article_groups['unique_words'].aggregate(np.mean).values\n",
    "\n",
    "# Sort by number of avg_words\n",
    "idx = avg_words.argsort()\n",
    "publications, avg_words, unique_words = [np.take(x, idx) for x in [publications, avg_words, unique_words]]\n",
    "\n",
    "y = np.arange(unique_words.size)\n",
    "\n",
    "fig, axes = plt.subplots(ncols=2, sharey=True, figsize=(12,6))\n",
    "axes[0].barh(y, unique_words, align='center', color='dodgerblue', zorder=10)\n",
    "axes[0].set_title('Mean Number of Unique Words', fontsize=18)\n",
    "axes[1].barh(y, avg_words, align='center', color='salmon', zorder=10)\n",
    "axes[1].set_title('Mean Number of Words', fontsize=18)\n",
    "\n",
    "axes[0].invert_xaxis()\n",
    "axes[0].set_yticks(y)\n",
    "axes[0].set_yticklabels(publications, fontsize=14)\n",
    "axes[0].yaxis.tick_left()\n",
    "\n",
    "axes[1].yaxis.tick_right()\n",
    "\n",
    "for ax in axes.flat:\n",
    "    ax.margins(0.03)\n",
    "    ax.grid(False)\n",
    "\n",
    "fig.tight_layout()\n",
    "fig.subplots_adjust(wspace=0)\n",
    "plt.tight_layout();"
   ]
  },
  {
   "cell_type": "markdown",
   "metadata": {},
   "source": [
    "Atlantic publication articles have more number of unique words in average than any other publications.\n",
    "It closely followed, however by New York Times and then National Review."
   ]
  },
  {
   "cell_type": "code",
   "execution_count": 23,
   "metadata": {},
   "outputs": [
    {
     "data": {
      "text/html": [
       "<div>\n",
       "<style scoped>\n",
       "    .dataframe tbody tr th:only-of-type {\n",
       "        vertical-align: middle;\n",
       "    }\n",
       "\n",
       "    .dataframe tbody tr th {\n",
       "        vertical-align: top;\n",
       "    }\n",
       "\n",
       "    .dataframe thead th {\n",
       "        text-align: right;\n",
       "    }\n",
       "</style>\n",
       "<table border=\"1\" class=\"dataframe\">\n",
       "  <thead>\n",
       "    <tr style=\"text-align: right;\">\n",
       "      <th></th>\n",
       "      <th>title</th>\n",
       "      <th>content</th>\n",
       "      <th>author</th>\n",
       "    </tr>\n",
       "  </thead>\n",
       "  <tbody>\n",
       "    <tr>\n",
       "      <th>0</th>\n",
       "      <td>Vivian Howard, a TV Chef, Offers Hope for Her ...</td>\n",
       "      <td>KINSTON, N. C.  â   Just before Christmas, i...</td>\n",
       "      <td>Kim Severson</td>\n",
       "    </tr>\n",
       "    <tr>\n",
       "      <th>1</th>\n",
       "      <td>Tucson Becomes an Unlikely Food Star - The New...</td>\n",
       "      <td>TUCSON  â   There are food deserts, those ur...</td>\n",
       "      <td>Kim Severson</td>\n",
       "    </tr>\n",
       "    <tr>\n",
       "      <th>2</th>\n",
       "      <td>When Is Peach Season? Itâs a Bit Fuzzy - The...</td>\n",
       "      <td>Kathleen Purvis, the Southern food writer most...</td>\n",
       "      <td>Kim Severson</td>\n",
       "    </tr>\n",
       "    <tr>\n",
       "      <th>3</th>\n",
       "      <td>Why Christopher Kimball Is Moving On From Amer...</td>\n",
       "      <td>BOSTON  â   Christopher Kimball spent much o...</td>\n",
       "      <td>Kim Severson</td>\n",
       "    </tr>\n",
       "    <tr>\n",
       "      <th>4</th>\n",
       "      <td>11 Ideas for Midweek Cooking - The New York Times</td>\n",
       "      <td>Kim Severson is filling in for Sam Sifton, who...</td>\n",
       "      <td>Kim Severson</td>\n",
       "    </tr>\n",
       "  </tbody>\n",
       "</table>\n",
       "</div>"
      ],
      "text/plain": [
       "                                               title  \\\n",
       "0  Vivian Howard, a TV Chef, Offers Hope for Her ...   \n",
       "1  Tucson Becomes an Unlikely Food Star - The New...   \n",
       "2  When Is Peach Season? Itâs a Bit Fuzzy - The...   \n",
       "3  Why Christopher Kimball Is Moving On From Amer...   \n",
       "4  11 Ideas for Midweek Cooking - The New York Times   \n",
       "\n",
       "                                             content        author  \n",
       "0  KINSTON, N. C.  â   Just before Christmas, i...  Kim Severson  \n",
       "1  TUCSON  â   There are food deserts, those ur...  Kim Severson  \n",
       "2  Kathleen Purvis, the Southern food writer most...  Kim Severson  \n",
       "3  BOSTON  â   Christopher Kimball spent much o...  Kim Severson  \n",
       "4  Kim Severson is filling in for Sam Sifton, who...  Kim Severson  "
      ]
     },
     "execution_count": 23,
     "metadata": {},
     "output_type": "execute_result"
    }
   ],
   "source": [
    "#creating a corpus for all authors in the dataset\n",
    "names = d2.author.value_counts()[data.author.value_counts()].index.tolist()\n",
    "\n",
    "#dataframes with the authors and the articles for creating the corpus\n",
    "author_articles = pd.DataFrame()\n",
    "\n",
    "for name in names:\n",
    "    articles = d2[data.author == name][['title', 'content', 'author']]\n",
    "    author_articles = author_articles.append(articles)\n",
    "\n",
    "author_articles = author_articles.reset_index().drop('index',1)\n",
    "author_articles.head()"
   ]
  },
  {
   "cell_type": "code",
   "execution_count": 24,
   "metadata": {},
   "outputs": [
    {
     "data": {
      "text/plain": [
       "9072507"
      ]
     },
     "execution_count": 24,
     "metadata": {},
     "output_type": "execute_result"
    }
   ],
   "source": [
    "len(author_articles.index)"
   ]
  },
  {
   "cell_type": "code",
   "execution_count": 25,
   "metadata": {},
   "outputs": [
    {
     "data": {
      "text/plain": [
       "9072507"
      ]
     },
     "execution_count": 25,
     "metadata": {},
     "output_type": "execute_result"
    }
   ],
   "source": [
    "len(np.unique(author_articles.index))"
   ]
  },
  {
   "cell_type": "code",
   "execution_count": 26,
   "metadata": {},
   "outputs": [
    {
     "data": {
      "text/plain": [
       "224"
      ]
     },
     "execution_count": 26,
     "metadata": {},
     "output_type": "execute_result"
    }
   ],
   "source": [
    "len(np.unique(author_articles.author))"
   ]
  },
  {
   "cell_type": "code",
   "execution_count": 27,
   "metadata": {},
   "outputs": [
    {
     "name": "stdout",
     "output_type": "stream",
     "text": [
      "Pam Key             6463844\n",
      "Associated Press    1148961\n",
      "Charlie Spiering     385120\n",
      "Jerome Hudson        213590\n",
      "John Hayward         153882\n",
      "                     ...   \n",
      "Elle Hunt                17\n",
      "Brooke Singman           13\n",
      "Sarah Jorgensen           9\n",
      "Rachael Krishna           8\n",
      "Kim Severson              6\n",
      "Name: author, Length: 224, dtype: int64\n"
     ]
    }
   ],
   "source": [
    "print(author_articles.author.value_counts())"
   ]
  },
  {
   "cell_type": "markdown",
   "metadata": {},
   "source": [
    "### Statistical summary of the article data"
   ]
  },
  {
   "cell_type": "code",
   "execution_count": 28,
   "metadata": {},
   "outputs": [
    {
     "name": "stdout",
     "output_type": "stream",
     "text": [
      "Statistical summary of article data\n",
      "count    9.072507e+06\n",
      "mean     1.779148e+03\n",
      "std      1.746469e+03\n",
      "min      6.000000e+00\n",
      "25%      8.570000e+02\n",
      "50%      1.327000e+03\n",
      "75%      2.046000e+03\n",
      "max      1.646580e+05\n",
      "dtype: float64\n"
     ]
    }
   ],
   "source": [
    "print(\"Statistical summary of article data\")\n",
    "art_length = pd.Series([len(x) for x in author_articles.content])\n",
    "print(art_length.describe())"
   ]
  },
  {
   "cell_type": "code",
   "execution_count": 29,
   "metadata": {},
   "outputs": [
    {
     "data": {
      "image/png": "[encoded data removed]",
      "text/plain": [
       "<Figure size 432x288 with 1 Axes>"
      ]
     },
     "metadata": {
      "needs_background": "light"
     },
     "output_type": "display_data"
    },
    {
     "data": {
      "image/png": "[encoded data removed]",
      "text/plain": [
       "<Figure size 432x288 with 1 Axes>"
      ]
     },
     "metadata": {
      "needs_background": "light"
     },
     "output_type": "display_data"
    }
   ],
   "source": [
    "sns.distplot(art_length,kde=False)\n",
    "plt.title('Distribution of Article Lengths')\n",
    "plt.show()\n",
    "\n",
    "sns.distplot(art_length[art_length<10000],kde=False)\n",
    "plt.show()"
   ]
  },
  {
   "cell_type": "code",
   "execution_count": null,
   "metadata": {},
   "outputs": [],
   "source": []
  }
 ],
 "metadata": {
  "kernelspec": {
   "display_name": "Python 3",
   "language": "python",
   "name": "python3"
  },
  "language_info": {
   "codemirror_mode": {
    "name": "ipython",
    "version": 3
   },
   "file_extension": ".py",
   "mimetype": "text/x-python",
   "name": "python",
   "nbconvert_exporter": "python",
   "pygments_lexer": "ipython3",
   "version": "3.7.3"
  }
 },
 "nbformat": 4,
 "nbformat_minor": 2
}
