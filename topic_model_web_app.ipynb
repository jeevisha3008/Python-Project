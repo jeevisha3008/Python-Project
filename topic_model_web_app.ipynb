{
  "nbformat": 4,
  "nbformat_minor": 0,
  "metadata": {
    "kernelspec": {
      "display_name": "Python 3",
      "language": "python",
      "name": "python3"
    },
    "language_info": {
      "codemirror_mode": {
        "name": "ipython",
        "version": 3
      },
      "file_extension": ".py",
      "mimetype": "text/x-python",
      "name": "python",
      "nbconvert_exporter": "python",
      "pygments_lexer": "ipython3",
      "version": "3.7.3"
    },
    "toc": {
      "base_numbering": 1,
      "nav_menu": {},
      "number_sections": true,
      "sideBar": true,
      "skip_h1_title": false,
      "title_cell": "Table of Contents",
      "title_sidebar": "Contents",
      "toc_cell": true,
      "toc_position": {},
      "toc_section_display": true,
      "toc_window_display": false
    },
    "colab": {
      "name": "topic model web app.ipynb",
      "provenance": [],
      "collapsed_sections": [],
      "include_colab_link": true
    },
    "widgets": {
      "application/vnd.jupyter.widget-state+json": {
        "96e46040fdd0470eb033bb875699f84b": {
          "model_module": "@jupyter-widgets/controls",
          "model_name": "FileUploadModel",
          "state": {
            "_view_name": "FileUploadView",
            "_counter": 1,
            "style": "IPY_MODEL_e0cd754300ae45ef93b28481129b5b2d",
            "_dom_classes": [],
            "description": "Upload",
            "multiple": false,
            "_model_name": "FileUploadModel",
            "data": [
              null
            ],
            "button_style": "",
            "_view_module": "@jupyter-widgets/controls",
            "_model_module_version": "1.5.0",
            "accept": "",
            "_view_count": null,
            "disabled": false,
            "_view_module_version": "1.5.0",
            "error": "",
            "description_tooltip": null,
            "metadata": [
              {
                "name": "Cover Letter.docx",
                "type": "application/vnd.openxmlformats-officedocument.wordprocessingml.document",
                "size": 64690,
                "lastModified": 1588395289764
              }
            ],
            "_model_module": "@jupyter-widgets/controls",
            "layout": "IPY_MODEL_4761bd6abf054a30a38e27166ca2c167",
            "icon": "upload"
          }
        },
        "e0cd754300ae45ef93b28481129b5b2d": {
          "model_module": "@jupyter-widgets/controls",
          "model_name": "ButtonStyleModel",
          "state": {
            "_view_name": "StyleView",
            "_model_name": "ButtonStyleModel",
            "_view_module": "@jupyter-widgets/base",
            "_model_module_version": "1.5.0",
            "_view_count": null,
            "button_color": null,
            "font_weight": "",
            "_view_module_version": "1.2.0",
            "_model_module": "@jupyter-widgets/controls"
          }
        },
        "4761bd6abf054a30a38e27166ca2c167": {
          "model_module": "@jupyter-widgets/base",
          "model_name": "LayoutModel",
          "state": {
            "_view_name": "LayoutView",
            "grid_template_rows": null,
            "right": null,
            "justify_content": null,
            "_view_module": "@jupyter-widgets/base",
            "overflow": null,
            "_model_module_version": "1.2.0",
            "_view_count": null,
            "flex_flow": null,
            "width": null,
            "min_width": null,
            "border": null,
            "align_items": null,
            "bottom": null,
            "_model_module": "@jupyter-widgets/base",
            "top": null,
            "grid_column": null,
            "overflow_y": null,
            "overflow_x": null,
            "grid_auto_flow": null,
            "grid_area": null,
            "grid_template_columns": null,
            "flex": null,
            "_model_name": "LayoutModel",
            "justify_items": null,
            "grid_row": null,
            "max_height": null,
            "align_content": null,
            "visibility": null,
            "align_self": null,
            "height": null,
            "min_height": null,
            "padding": null,
            "grid_auto_rows": null,
            "grid_gap": null,
            "max_width": null,
            "order": null,
            "_view_module_version": "1.2.0",
            "grid_template_areas": null,
            "object_position": null,
            "object_fit": null,
            "grid_auto_columns": null,
            "margin": null,
            "display": null,
            "left": null
          }
        },
        "57290ee021ea44eaa9f89b5a55124691": {
          "model_module": "@jupyter-widgets/controls",
          "model_name": "ButtonModel",
          "state": {
            "_view_name": "ButtonView",
            "style": "IPY_MODEL_26c6d4384b6b4630b9a64811d7200b6d",
            "_dom_classes": [],
            "description": "Click me",
            "_model_name": "ButtonModel",
            "button_style": "",
            "_view_module": "@jupyter-widgets/controls",
            "_model_module_version": "1.5.0",
            "tooltip": "Click me",
            "_view_count": null,
            "disabled": false,
            "_view_module_version": "1.5.0",
            "layout": "IPY_MODEL_89a3a399eeec4b598490199e76c25fb5",
            "_model_module": "@jupyter-widgets/controls",
            "icon": "check"
          }
        },
        "26c6d4384b6b4630b9a64811d7200b6d": {
          "model_module": "@jupyter-widgets/controls",
          "model_name": "ButtonStyleModel",
          "state": {
            "_view_name": "StyleView",
            "_model_name": "ButtonStyleModel",
            "_view_module": "@jupyter-widgets/base",
            "_model_module_version": "1.5.0",
            "_view_count": null,
            "button_color": null,
            "font_weight": "",
            "_view_module_version": "1.2.0",
            "_model_module": "@jupyter-widgets/controls"
          }
        },
        "89a3a399eeec4b598490199e76c25fb5": {
          "model_module": "@jupyter-widgets/base",
          "model_name": "LayoutModel",
          "state": {
            "_view_name": "LayoutView",
            "grid_template_rows": null,
            "right": null,
            "justify_content": null,
            "_view_module": "@jupyter-widgets/base",
            "overflow": null,
            "_model_module_version": "1.2.0",
            "_view_count": null,
            "flex_flow": null,
            "width": null,
            "min_width": null,
            "border": null,
            "align_items": null,
            "bottom": null,
            "_model_module": "@jupyter-widgets/base",
            "top": null,
            "grid_column": null,
            "overflow_y": null,
            "overflow_x": null,
            "grid_auto_flow": null,
            "grid_area": null,
            "grid_template_columns": null,
            "flex": null,
            "_model_name": "LayoutModel",
            "justify_items": null,
            "grid_row": null,
            "max_height": null,
            "align_content": null,
            "visibility": null,
            "align_self": null,
            "height": null,
            "min_height": null,
            "padding": null,
            "grid_auto_rows": null,
            "grid_gap": null,
            "max_width": null,
            "order": null,
            "_view_module_version": "1.2.0",
            "grid_template_areas": null,
            "object_position": null,
            "object_fit": null,
            "grid_auto_columns": null,
            "margin": null,
            "display": null,
            "left": null
          }
        }
      }
    }
  },
  "cells": [
    {
      "cell_type": "markdown",
      "metadata": {
        "id": "view-in-github",
        "colab_type": "text"
      },
      "source": [
        "<a href=\"https://colab.research.google.com/github/jeevisha3008/Text-Mining/blob/master/topic_model_web_app.ipynb\" target=\"_parent\"><img src=\"https://colab.research.google.com/assets/colab-badge.svg\" alt=\"Open In Colab\"/></a>"
      ]
    },
    {
      "cell_type": "markdown",
      "metadata": {
        "toc": true,
        "id": "5ADuiRZB0lKx",
        "colab_type": "text"
      },
      "source": [
        "<h1>Table of Contents<span class=\"tocSkip\"></span></h1>\n",
        "<div class=\"toc\"><ul class=\"toc-item\"><li><span><a href=\"#Scraping-BBC-for-all-articles\" data-toc-modified-id=\"Scraping-BBC-for-all-articles-1\"><span class=\"toc-item-num\">1&nbsp;&nbsp;</span>Scraping BBC for all articles</a></span></li><li><span><a href=\"#Data-cleaning-removing-punctuations,quotations,spaces\" data-toc-modified-id=\"Data-cleaning-removing-punctuations,quotations,spaces-2\"><span class=\"toc-item-num\">2&nbsp;&nbsp;</span>Data cleaning-removing punctuations,quotations,spaces</a></span></li><li><span><a href=\"#Running-the-model\" data-toc-modified-id=\"Running-the-model-3\"><span class=\"toc-item-num\">3&nbsp;&nbsp;</span>Running the model</a></span></li><li><span><a href=\"#Predicting-topic-through-a-Web-App\" data-toc-modified-id=\"Predicting-topic-through-a-Web-App-4\"><span class=\"toc-item-num\">4&nbsp;&nbsp;</span>Predicting topic through a Web App</a></span><ul class=\"toc-item\"><li><span><a href=\"#function\" data-toc-modified-id=\"function-4.1\"><span class=\"toc-item-num\">4.1&nbsp;&nbsp;</span>function</a></span></li></ul></li></ul></div>"
      ]
    },
    {
      "cell_type": "code",
      "metadata": {
        "id": "AeU-blHd0lK6",
        "colab_type": "code",
        "colab": {
          "base_uri": "https://localhost:8080/",
          "height": 1000
        },
        "outputId": "ed9b2b3c-f8d6-4bc1-9659-16d0b6af636d"
      },
      "source": [
        "!pip install ipywidgets\n",
        "!pip install python-docx\n",
        "!pip install beautifulsoup4\n",
        "!pip install requests\n",
        "!pip install pyLDAvis\n",
        "!pip install nltk.tokenize\n",
        "\n",
        "import pandas as pd\n",
        "import nltk; nltk.download('stopwords')\n",
        "import gensim\n",
        "import re\n",
        "import numpy as np\n",
        "from pprint import pprint\n",
        "import string\n",
        "nltk.download('wordnet')\n",
        "import pyLDAvis\n",
        "import pyLDAvis.sklearn\n",
        "from sklearn.decomposition import LatentDirichletAllocation, TruncatedSVD\n",
        "from sklearn.feature_extraction.text import CountVectorizer, TfidfVectorizer\n",
        "from sklearn.model_selection import GridSearchCV\n",
        "from nltk.stem.wordnet import WordNetLemmatizer\n",
        "from nltk import PorterStemmer\n",
        "from nltk.corpus import stopwords\n",
        "from nltk.tokenize import RegexpTokenizer \n",
        "import string\n",
        "\n",
        "from sklearn.feature_extraction.text import CountVectorizer;\n",
        "from tqdm import tqdm\n",
        "import string\n",
        "import matplotlib.pyplot as plt\n",
        "from sklearn.decomposition import NMF, LatentDirichletAllocation, TruncatedSVD\n",
        "from sklearn.feature_extraction.text import CountVectorizer\n",
        "from sklearn.manifold import TSNE\n",
        "import concurrent.futures\n",
        "import time\n",
        "#import pyLDAvis.sklearn\n",
        "from pylab import bone, pcolor, colorbar, plot, show, rcParams, savefig\n",
        "import seaborn as sns\n",
        "import random\n",
        "import scipy.stats as stats\n",
        "from scipy.stats import chi2_contingency\n",
        "import sklearn.metrics as metrics\n",
        "import requests \n",
        "from bs4 import BeautifulSoup\n",
        "from urllib.parse import urlparse, urljoin\n",
        "#import colorama\n",
        "import re\n",
        "import scipy\n",
        "from collections import Counter\n",
        "from time import time\n",
        "%matplotlib inline\n",
        "\n",
        "import ipywidgets as widgets\n",
        "import docx\n",
        "from IPython.core.display import HTML, display, Javascript, clear_output\n",
        "from ipywidgets import interact, interactive, fixed, interact_manual\n",
        "\n",
        "import warnings\n",
        "warnings.filterwarnings(\"ignore\");"
      ],
      "execution_count": 3,
      "outputs": [
        {
          "output_type": "stream",
          "text": [
            "Requirement already satisfied: ipywidgets in /usr/local/lib/python3.6/dist-packages (7.5.1)\n",
            "Requirement already satisfied: traitlets>=4.3.1 in /usr/local/lib/python3.6/dist-packages (from ipywidgets) (4.3.3)\n",
            "Requirement already satisfied: ipykernel>=4.5.1 in /usr/local/lib/python3.6/dist-packages (from ipywidgets) (4.10.1)\n",
            "Requirement already satisfied: ipython>=4.0.0; python_version >= \"3.3\" in /usr/local/lib/python3.6/dist-packages (from ipywidgets) (5.5.0)\n",
            "Requirement already satisfied: widgetsnbextension~=3.5.0 in /usr/local/lib/python3.6/dist-packages (from ipywidgets) (3.5.1)\n",
            "Requirement already satisfied: nbformat>=4.2.0 in /usr/local/lib/python3.6/dist-packages (from ipywidgets) (5.0.6)\n",
            "Requirement already satisfied: ipython-genutils in /usr/local/lib/python3.6/dist-packages (from traitlets>=4.3.1->ipywidgets) (0.2.0)\n",
            "Requirement already satisfied: decorator in /usr/local/lib/python3.6/dist-packages (from traitlets>=4.3.1->ipywidgets) (4.4.2)\n",
            "Requirement already satisfied: six in /usr/local/lib/python3.6/dist-packages (from traitlets>=4.3.1->ipywidgets) (1.12.0)\n",
            "Requirement already satisfied: jupyter-client in /usr/local/lib/python3.6/dist-packages (from ipykernel>=4.5.1->ipywidgets) (5.3.4)\n",
            "Requirement already satisfied: tornado>=4.0 in /usr/local/lib/python3.6/dist-packages (from ipykernel>=4.5.1->ipywidgets) (4.5.3)\n",
            "Requirement already satisfied: pickleshare in /usr/local/lib/python3.6/dist-packages (from ipython>=4.0.0; python_version >= \"3.3\"->ipywidgets) (0.7.5)\n",
            "Requirement already satisfied: setuptools>=18.5 in /usr/local/lib/python3.6/dist-packages (from ipython>=4.0.0; python_version >= \"3.3\"->ipywidgets) (46.4.0)\n",
            "Requirement already satisfied: simplegeneric>0.8 in /usr/local/lib/python3.6/dist-packages (from ipython>=4.0.0; python_version >= \"3.3\"->ipywidgets) (0.8.1)\n",
            "Requirement already satisfied: pygments in /usr/local/lib/python3.6/dist-packages (from ipython>=4.0.0; python_version >= \"3.3\"->ipywidgets) (2.6.1)\n",
            "Requirement already satisfied: pexpect; sys_platform != \"win32\" in /usr/local/lib/python3.6/dist-packages (from ipython>=4.0.0; python_version >= \"3.3\"->ipywidgets) (4.8.0)\n",
            "Requirement already satisfied: prompt-toolkit<2.0.0,>=1.0.4 in /usr/local/lib/python3.6/dist-packages (from ipython>=4.0.0; python_version >= \"3.3\"->ipywidgets) (1.0.18)\n",
            "Requirement already satisfied: notebook>=4.4.1 in /usr/local/lib/python3.6/dist-packages (from widgetsnbextension~=3.5.0->ipywidgets) (5.2.2)\n",
            "Requirement already satisfied: jupyter-core in /usr/local/lib/python3.6/dist-packages (from nbformat>=4.2.0->ipywidgets) (4.6.3)\n",
            "Requirement already satisfied: jsonschema!=2.5.0,>=2.4 in /usr/local/lib/python3.6/dist-packages (from nbformat>=4.2.0->ipywidgets) (2.6.0)\n",
            "Requirement already satisfied: python-dateutil>=2.1 in /usr/local/lib/python3.6/dist-packages (from jupyter-client->ipykernel>=4.5.1->ipywidgets) (2.8.1)\n",
            "Requirement already satisfied: pyzmq>=13 in /usr/local/lib/python3.6/dist-packages (from jupyter-client->ipykernel>=4.5.1->ipywidgets) (19.0.1)\n",
            "Requirement already satisfied: ptyprocess>=0.5 in /usr/local/lib/python3.6/dist-packages (from pexpect; sys_platform != \"win32\"->ipython>=4.0.0; python_version >= \"3.3\"->ipywidgets) (0.6.0)\n",
            "Requirement already satisfied: wcwidth in /usr/local/lib/python3.6/dist-packages (from prompt-toolkit<2.0.0,>=1.0.4->ipython>=4.0.0; python_version >= \"3.3\"->ipywidgets) (0.1.9)\n",
            "Requirement already satisfied: jinja2 in /usr/local/lib/python3.6/dist-packages (from notebook>=4.4.1->widgetsnbextension~=3.5.0->ipywidgets) (2.11.2)\n",
            "Requirement already satisfied: nbconvert in /usr/local/lib/python3.6/dist-packages (from notebook>=4.4.1->widgetsnbextension~=3.5.0->ipywidgets) (5.6.1)\n",
            "Requirement already satisfied: terminado>=0.3.3; sys_platform != \"win32\" in /usr/local/lib/python3.6/dist-packages (from notebook>=4.4.1->widgetsnbextension~=3.5.0->ipywidgets) (0.8.3)\n",
            "Requirement already satisfied: MarkupSafe>=0.23 in /usr/local/lib/python3.6/dist-packages (from jinja2->notebook>=4.4.1->widgetsnbextension~=3.5.0->ipywidgets) (1.1.1)\n",
            "Requirement already satisfied: testpath in /usr/local/lib/python3.6/dist-packages (from nbconvert->notebook>=4.4.1->widgetsnbextension~=3.5.0->ipywidgets) (0.4.4)\n",
            "Requirement already satisfied: entrypoints>=0.2.2 in /usr/local/lib/python3.6/dist-packages (from nbconvert->notebook>=4.4.1->widgetsnbextension~=3.5.0->ipywidgets) (0.3)\n",
            "Requirement already satisfied: defusedxml in /usr/local/lib/python3.6/dist-packages (from nbconvert->notebook>=4.4.1->widgetsnbextension~=3.5.0->ipywidgets) (0.6.0)\n",
            "Requirement already satisfied: mistune<2,>=0.8.1 in /usr/local/lib/python3.6/dist-packages (from nbconvert->notebook>=4.4.1->widgetsnbextension~=3.5.0->ipywidgets) (0.8.4)\n",
            "Requirement already satisfied: bleach in /usr/local/lib/python3.6/dist-packages (from nbconvert->notebook>=4.4.1->widgetsnbextension~=3.5.0->ipywidgets) (3.1.5)\n",
            "Requirement already satisfied: pandocfilters>=1.4.1 in /usr/local/lib/python3.6/dist-packages (from nbconvert->notebook>=4.4.1->widgetsnbextension~=3.5.0->ipywidgets) (1.4.2)\n",
            "Requirement already satisfied: packaging in /usr/local/lib/python3.6/dist-packages (from bleach->nbconvert->notebook>=4.4.1->widgetsnbextension~=3.5.0->ipywidgets) (20.4)\n",
            "Requirement already satisfied: webencodings in /usr/local/lib/python3.6/dist-packages (from bleach->nbconvert->notebook>=4.4.1->widgetsnbextension~=3.5.0->ipywidgets) (0.5.1)\n",
            "Requirement already satisfied: pyparsing>=2.0.2 in /usr/local/lib/python3.6/dist-packages (from packaging->bleach->nbconvert->notebook>=4.4.1->widgetsnbextension~=3.5.0->ipywidgets) (2.4.7)\n",
            "Requirement already satisfied: python-docx in /usr/local/lib/python3.6/dist-packages (0.8.10)\n",
            "Requirement already satisfied: lxml>=2.3.2 in /usr/local/lib/python3.6/dist-packages (from python-docx) (4.2.6)\n",
            "Requirement already satisfied: beautifulsoup4 in /usr/local/lib/python3.6/dist-packages (4.6.3)\n",
            "Requirement already satisfied: requests in /usr/local/lib/python3.6/dist-packages (2.23.0)\n",
            "Requirement already satisfied: urllib3!=1.25.0,!=1.25.1,<1.26,>=1.21.1 in /usr/local/lib/python3.6/dist-packages (from requests) (1.24.3)\n",
            "Requirement already satisfied: idna<3,>=2.5 in /usr/local/lib/python3.6/dist-packages (from requests) (2.9)\n",
            "Requirement already satisfied: certifi>=2017.4.17 in /usr/local/lib/python3.6/dist-packages (from requests) (2020.4.5.1)\n",
            "Requirement already satisfied: chardet<4,>=3.0.2 in /usr/local/lib/python3.6/dist-packages (from requests) (3.0.4)\n",
            "Requirement already satisfied: pyLDAvis in /usr/local/lib/python3.6/dist-packages (2.1.2)\n",
            "Requirement already satisfied: pandas>=0.17.0 in /usr/local/lib/python3.6/dist-packages (from pyLDAvis) (1.0.3)\n",
            "Requirement already satisfied: numpy>=1.9.2 in /usr/local/lib/python3.6/dist-packages (from pyLDAvis) (1.18.4)\n",
            "Requirement already satisfied: wheel>=0.23.0 in /usr/local/lib/python3.6/dist-packages (from pyLDAvis) (0.34.2)\n",
            "Requirement already satisfied: joblib>=0.8.4 in /usr/local/lib/python3.6/dist-packages (from pyLDAvis) (0.15.1)\n",
            "Requirement already satisfied: numexpr in /usr/local/lib/python3.6/dist-packages (from pyLDAvis) (2.7.1)\n",
            "Requirement already satisfied: jinja2>=2.7.2 in /usr/local/lib/python3.6/dist-packages (from pyLDAvis) (2.11.2)\n",
            "Requirement already satisfied: future in /usr/local/lib/python3.6/dist-packages (from pyLDAvis) (0.16.0)\n",
            "Requirement already satisfied: pytest in /usr/local/lib/python3.6/dist-packages (from pyLDAvis) (3.6.4)\n",
            "Requirement already satisfied: funcy in /usr/local/lib/python3.6/dist-packages (from pyLDAvis) (1.14)\n",
            "Requirement already satisfied: scipy>=0.18.0 in /usr/local/lib/python3.6/dist-packages (from pyLDAvis) (1.4.1)\n",
            "Requirement already satisfied: python-dateutil>=2.6.1 in /usr/local/lib/python3.6/dist-packages (from pandas>=0.17.0->pyLDAvis) (2.8.1)\n",
            "Requirement already satisfied: pytz>=2017.2 in /usr/local/lib/python3.6/dist-packages (from pandas>=0.17.0->pyLDAvis) (2018.9)\n",
            "Requirement already satisfied: MarkupSafe>=0.23 in /usr/local/lib/python3.6/dist-packages (from jinja2>=2.7.2->pyLDAvis) (1.1.1)\n",
            "Requirement already satisfied: six>=1.10.0 in /usr/local/lib/python3.6/dist-packages (from pytest->pyLDAvis) (1.12.0)\n",
            "Requirement already satisfied: pluggy<0.8,>=0.5 in /usr/local/lib/python3.6/dist-packages (from pytest->pyLDAvis) (0.7.1)\n",
            "Requirement already satisfied: py>=1.5.0 in /usr/local/lib/python3.6/dist-packages (from pytest->pyLDAvis) (1.8.1)\n",
            "Requirement already satisfied: more-itertools>=4.0.0 in /usr/local/lib/python3.6/dist-packages (from pytest->pyLDAvis) (8.3.0)\n",
            "Requirement already satisfied: setuptools in /usr/local/lib/python3.6/dist-packages (from pytest->pyLDAvis) (46.4.0)\n",
            "Requirement already satisfied: atomicwrites>=1.0 in /usr/local/lib/python3.6/dist-packages (from pytest->pyLDAvis) (1.4.0)\n",
            "Requirement already satisfied: attrs>=17.4.0 in /usr/local/lib/python3.6/dist-packages (from pytest->pyLDAvis) (19.3.0)\n",
            "\u001b[31mERROR: Could not find a version that satisfies the requirement nltk.tokenize (from versions: none)\u001b[0m\n",
            "\u001b[31mERROR: No matching distribution found for nltk.tokenize\u001b[0m\n",
            "[nltk_data] Downloading package stopwords to /root/nltk_data...\n",
            "[nltk_data]   Package stopwords is already up-to-date!\n",
            "[nltk_data] Downloading package wordnet to /root/nltk_data...\n",
            "[nltk_data]   Package wordnet is already up-to-date!\n"
          ],
          "name": "stdout"
        },
        {
          "output_type": "stream",
          "text": [
            "/usr/local/lib/python3.6/dist-packages/statsmodels/tools/_testing.py:19: FutureWarning: pandas.util.testing is deprecated. Use the functions in the public API at pandas.testing instead.\n",
            "  import pandas.util.testing as tm\n"
          ],
          "name": "stderr"
        }
      ]
    },
    {
      "cell_type": "code",
      "metadata": {
        "id": "1bK48FeZG1RZ",
        "colab_type": "code",
        "colab": {}
      },
      "source": [
        "#! pip install voila\n",
        "import voila"
      ],
      "execution_count": 0,
      "outputs": []
    },
    {
      "cell_type": "markdown",
      "metadata": {
        "id": "kQoItsDG0lK9",
        "colab_type": "text"
      },
      "source": [
        "# Scraping BBC for all articles "
      ]
    },
    {
      "cell_type": "code",
      "metadata": {
        "id": "465cx__k0lK9",
        "colab_type": "code",
        "colab": {}
      },
      "source": [
        "html = requests.get(\"https://www.bbc.com/\").text # fstrings require Python 3.6+\n",
        "soup = BeautifulSoup(html, \"html.parser\")\n",
        "All_links = [element.get('href') for element in soup.findAll('a')]"
      ],
      "execution_count": 0,
      "outputs": []
    },
    {
      "cell_type": "code",
      "metadata": {
        "id": "iJ6T6Kl40lLA",
        "colab_type": "code",
        "colab": {
          "base_uri": "https://localhost:8080/",
          "height": 101
        },
        "outputId": "448507d8-bc99-46d9-fab4-d1b4f2840cd3"
      },
      "source": [
        "All_links[0:5]"
      ],
      "execution_count": 18,
      "outputs": [
        {
          "output_type": "execute_result",
          "data": {
            "text/plain": [
              "['https://www.bbc.co.uk',\n",
              " '#orb-modules',\n",
              " 'https://www.bbc.co.uk/accessibility/',\n",
              " 'https://account.bbc.com/account',\n",
              " '#']"
            ]
          },
          "metadata": {
            "tags": []
          },
          "execution_count": 18
        }
      ]
    },
    {
      "cell_type": "code",
      "metadata": {
        "id": "G078kvsp0lLC",
        "colab_type": "code",
        "colab": {}
      },
      "source": [
        "df = pd.DataFrame(All_links,columns=['links'])"
      ],
      "execution_count": 0,
      "outputs": []
    },
    {
      "cell_type": "code",
      "metadata": {
        "id": "1C_NeKsM0lLF",
        "colab_type": "code",
        "colab": {
          "base_uri": "https://localhost:8080/",
          "height": 34
        },
        "outputId": "1e725bc4-1f3a-4f3c-e194-c2a80d7646e0"
      },
      "source": [
        "df.shape"
      ],
      "execution_count": 20,
      "outputs": [
        {
          "output_type": "execute_result",
          "data": {
            "text/plain": [
              "(274, 1)"
            ]
          },
          "metadata": {
            "tags": []
          },
          "execution_count": 20
        }
      ]
    },
    {
      "cell_type": "code",
      "metadata": {
        "id": "nbF7NmUL0lLH",
        "colab_type": "code",
        "colab": {}
      },
      "source": [
        "df_internal_links = df[df['links'].str.contains('bbc')]"
      ],
      "execution_count": 0,
      "outputs": []
    },
    {
      "cell_type": "code",
      "metadata": {
        "id": "WHMIYNAK0lLJ",
        "colab_type": "code",
        "colab": {
          "base_uri": "https://localhost:8080/",
          "height": 34
        },
        "outputId": "f6b005ac-bbbc-4c4f-bfb1-466a1e6b106f"
      },
      "source": [
        "df_internal_links.shape"
      ],
      "execution_count": 22,
      "outputs": [
        {
          "output_type": "execute_result",
          "data": {
            "text/plain": [
              "(106, 1)"
            ]
          },
          "metadata": {
            "tags": []
          },
          "execution_count": 22
        }
      ]
    },
    {
      "cell_type": "code",
      "metadata": {
        "id": "dkNZeaAk0lLM",
        "colab_type": "code",
        "colab": {
          "base_uri": "https://localhost:8080/",
          "height": 195
        },
        "outputId": "29dc8738-9d1f-43a0-b5f6-ea94b2fd4feb"
      },
      "source": [
        "df_internal_links.head()"
      ],
      "execution_count": 23,
      "outputs": [
        {
          "output_type": "execute_result",
          "data": {
            "text/html": [
              "<div>\n",
              "<style scoped>\n",
              "    .dataframe tbody tr th:only-of-type {\n",
              "        vertical-align: middle;\n",
              "    }\n",
              "\n",
              "    .dataframe tbody tr th {\n",
              "        vertical-align: top;\n",
              "    }\n",
              "\n",
              "    .dataframe thead th {\n",
              "        text-align: right;\n",
              "    }\n",
              "</style>\n",
              "<table border=\"1\" class=\"dataframe\">\n",
              "  <thead>\n",
              "    <tr style=\"text-align: right;\">\n",
              "      <th></th>\n",
              "      <th>links</th>\n",
              "    </tr>\n",
              "  </thead>\n",
              "  <tbody>\n",
              "    <tr>\n",
              "      <th>0</th>\n",
              "      <td>https://www.bbc.co.uk</td>\n",
              "    </tr>\n",
              "    <tr>\n",
              "      <th>2</th>\n",
              "      <td>https://www.bbc.co.uk/accessibility/</td>\n",
              "    </tr>\n",
              "    <tr>\n",
              "      <th>3</th>\n",
              "      <td>https://account.bbc.com/account</td>\n",
              "    </tr>\n",
              "    <tr>\n",
              "      <th>5</th>\n",
              "      <td>https://www.bbc.co.uk</td>\n",
              "    </tr>\n",
              "    <tr>\n",
              "      <th>6</th>\n",
              "      <td>https://www.bbc.co.uk/news</td>\n",
              "    </tr>\n",
              "  </tbody>\n",
              "</table>\n",
              "</div>"
            ],
            "text/plain": [
              "                                  links\n",
              "0                 https://www.bbc.co.uk\n",
              "2  https://www.bbc.co.uk/accessibility/\n",
              "3       https://account.bbc.com/account\n",
              "5                 https://www.bbc.co.uk\n",
              "6            https://www.bbc.co.uk/news"
            ]
          },
          "metadata": {
            "tags": []
          },
          "execution_count": 23
        }
      ]
    },
    {
      "cell_type": "code",
      "metadata": {
        "id": "Uf_e-jSj0lLP",
        "colab_type": "code",
        "colab": {
          "base_uri": "https://localhost:8080/",
          "height": 34
        },
        "outputId": "a91f858d-3a41-4a8a-ad75-8cc2f4cff407"
      },
      "source": [
        "range(0,len(df_internal_links))"
      ],
      "execution_count": 24,
      "outputs": [
        {
          "output_type": "execute_result",
          "data": {
            "text/plain": [
              "range(0, 106)"
            ]
          },
          "metadata": {
            "tags": []
          },
          "execution_count": 24
        }
      ]
    },
    {
      "cell_type": "code",
      "metadata": {
        "id": "o7ll_LCn0lLR",
        "colab_type": "code",
        "colab": {}
      },
      "source": [
        "content=[]\n",
        "\n",
        "for i in range(0,len(df_internal_links)):\n",
        "    url = df_internal_links.iloc[i,0]\n",
        "    try:\n",
        "        r = requests.get(url) \n",
        "        #print('Web site exists')\n",
        "        #print(r.content) \n",
        "        page = r.text\n",
        "        soup = BeautifulSoup(page)\n",
        "        # Get headline\n",
        "        #headline = soup.find('h1').get_text()\n",
        "        # Get text from all <p> tags.\n",
        "        p_tags = soup.find_all('p')\n",
        "        # Get the text from each of the “p” tags and strip surrounding whitespace.\n",
        "        p_tags_text = [tag.get_text().strip() for tag in p_tags]\n",
        "        # Filter out sentences that contain newline characters '\\n' or don't contain periods.\n",
        "        sentence_list = [sentence for sentence in p_tags_text if not '\\n' in sentence]\n",
        "        sentence_list = [sentence for sentence in sentence_list if '.' in sentence]\n",
        "        # Combine list items into string.\n",
        "        article = ' '.join(sentence_list)\n",
        "        content.append(article)\n",
        "    except requests.exceptions.RequestException as e:  \n",
        "        print(\"error\")\n",
        "        continue     "
      ],
      "execution_count": 0,
      "outputs": []
    },
    {
      "cell_type": "code",
      "metadata": {
        "id": "CDYGe5AL0lLT",
        "colab_type": "code",
        "colab": {
          "base_uri": "https://localhost:8080/",
          "height": 54
        },
        "outputId": "cb401a5c-01d8-4a27-81a1-9f20e63f9748"
      },
      "source": [
        "content[0]"
      ],
      "execution_count": 26,
      "outputs": [
        {
          "output_type": "execute_result",
          "data": {
            "text/plain": [
              "\"The MUAs work on an advertising campaign for sports fashion retailer JD. In rural Ireland, popular Connell and aloof Marianne begin an intense, secret affair. Eve tries to rebuild her life, having been shot and left for dead in Rome by Villanelle. Following Prince William's campaign to get us to open up about mental health issues.\""
            ]
          },
          "metadata": {
            "tags": []
          },
          "execution_count": 26
        }
      ]
    },
    {
      "cell_type": "code",
      "metadata": {
        "id": "Liw1BMCc0lLX",
        "colab_type": "code",
        "colab": {}
      },
      "source": [
        "df = pd.DataFrame(content,columns=['content'])"
      ],
      "execution_count": 0,
      "outputs": []
    },
    {
      "cell_type": "code",
      "metadata": {
        "id": "Jw0S3D1d0lLa",
        "colab_type": "code",
        "colab": {}
      },
      "source": [
        "df = df.dropna()"
      ],
      "execution_count": 0,
      "outputs": []
    },
    {
      "cell_type": "code",
      "metadata": {
        "id": "pgvbCLe_0lLc",
        "colab_type": "code",
        "colab": {
          "base_uri": "https://localhost:8080/",
          "height": 195
        },
        "outputId": "30a6443d-694d-49ee-f52a-97f558a86485"
      },
      "source": [
        "df.head()"
      ],
      "execution_count": 29,
      "outputs": [
        {
          "output_type": "execute_result",
          "data": {
            "text/html": [
              "<div>\n",
              "<style scoped>\n",
              "    .dataframe tbody tr th:only-of-type {\n",
              "        vertical-align: middle;\n",
              "    }\n",
              "\n",
              "    .dataframe tbody tr th {\n",
              "        vertical-align: top;\n",
              "    }\n",
              "\n",
              "    .dataframe thead th {\n",
              "        text-align: right;\n",
              "    }\n",
              "</style>\n",
              "<table border=\"1\" class=\"dataframe\">\n",
              "  <thead>\n",
              "    <tr style=\"text-align: right;\">\n",
              "      <th></th>\n",
              "      <th>content</th>\n",
              "    </tr>\n",
              "  </thead>\n",
              "  <tbody>\n",
              "    <tr>\n",
              "      <th>0</th>\n",
              "      <td>The MUAs work on an advertising campaign for s...</td>\n",
              "    </tr>\n",
              "    <tr>\n",
              "      <th>1</th>\n",
              "      <td>This site provides accessibility help, enablin...</td>\n",
              "    </tr>\n",
              "    <tr>\n",
              "      <th>2</th>\n",
              "      <td></td>\n",
              "    </tr>\n",
              "    <tr>\n",
              "      <th>3</th>\n",
              "      <td>The MUAs work on an advertising campaign for s...</td>\n",
              "    </tr>\n",
              "    <tr>\n",
              "      <th>4</th>\n",
              "      <td>The US city sees a third night of unrest spark...</td>\n",
              "    </tr>\n",
              "  </tbody>\n",
              "</table>\n",
              "</div>"
            ],
            "text/plain": [
              "                                             content\n",
              "0  The MUAs work on an advertising campaign for s...\n",
              "1  This site provides accessibility help, enablin...\n",
              "2                                                   \n",
              "3  The MUAs work on an advertising campaign for s...\n",
              "4  The US city sees a third night of unrest spark..."
            ]
          },
          "metadata": {
            "tags": []
          },
          "execution_count": 29
        }
      ]
    },
    {
      "cell_type": "markdown",
      "metadata": {
        "id": "2WyaP7xr0lLe",
        "colab_type": "text"
      },
      "source": [
        "# Data cleaning-removing punctuations,quotations,spaces"
      ]
    },
    {
      "cell_type": "code",
      "metadata": {
        "id": "EOwi1jgT0lLe",
        "colab_type": "code",
        "colab": {}
      },
      "source": [
        "stop_words = stopwords.words('english')"
      ],
      "execution_count": 0,
      "outputs": []
    },
    {
      "cell_type": "code",
      "metadata": {
        "id": "2K153XnR0lLg",
        "colab_type": "code",
        "colab": {}
      },
      "source": [
        "Cleaned_Data = []\n",
        "for i in range(0, len(df)):\n",
        "    article = re.sub('[^a-zA-Z0-9]{3,}', ' ', str(df['content'][i]))\n",
        "    article = re.sub('\\[.*?\\]', '', article)\n",
        "    article = re.sub('[%s]' % re.escape(string.punctuation), '', article)\n",
        "    article = re.sub('\\w*\\d\\w*', '', article)\n",
        "    article = re.sub('[‘’“”…]', '', article)\n",
        "    article = re.sub('\\n', '', article)\n",
        "    article = article.lower()\n",
        "    article = article.split()        \n",
        "    lmtzr = WordNetLemmatizer()\n",
        "    article =  [lmtzr.lemmatize(word) for word in article if word not in (stop_words)]\n",
        "    article = ' '.join(article)\n",
        "    Cleaned_Data.append(article)"
      ],
      "execution_count": 0,
      "outputs": []
    },
    {
      "cell_type": "code",
      "metadata": {
        "id": "Loj7uFcT0lLi",
        "colab_type": "code",
        "colab": {}
      },
      "source": [
        "final_words = []"
      ],
      "execution_count": 0,
      "outputs": []
    },
    {
      "cell_type": "code",
      "metadata": {
        "id": "EetkNa910lLk",
        "colab_type": "code",
        "colab": {}
      },
      "source": [
        "for j in range(0,len(Cleaned_Data)):\n",
        "    query = Cleaned_Data[j]\n",
        "    querywords = query.split()\n",
        "    query_yes = [word for word in querywords if len(word)> 4]\n",
        "    final_words.append(' '.join(query_yes))"
      ],
      "execution_count": 0,
      "outputs": []
    },
    {
      "cell_type": "code",
      "metadata": {
        "id": "R8jh6G990lLm",
        "colab_type": "code",
        "colab": {
          "base_uri": "https://localhost:8080/",
          "height": 34
        },
        "outputId": "54464742-4c49-44f5-d6ef-9635abd66952"
      },
      "source": [
        "len(final_words)"
      ],
      "execution_count": 34,
      "outputs": [
        {
          "output_type": "execute_result",
          "data": {
            "text/plain": [
              "106"
            ]
          },
          "metadata": {
            "tags": []
          },
          "execution_count": 34
        }
      ]
    },
    {
      "cell_type": "code",
      "metadata": {
        "id": "U99lRswA0lLp",
        "colab_type": "code",
        "colab": {
          "base_uri": "https://localhost:8080/",
          "height": 54
        },
        "outputId": "aeb2c6e9-f33c-4e34-e9bd-ec28eeab233f"
      },
      "source": [
        "final_words[4]"
      ],
      "execution_count": 35,
      "outputs": [
        {
          "output_type": "execute_result",
          "data": {
            "text/plain": [
              "'third night unrest sparked death george floyd police custody third night unrest sparked death george floyd police custody jimenez reporting protest minneapolis detained officer first twitter hidden tweet president profile behind warning president follows decision twitter factcheck notice tweet stauffer behaviour became difficult critic accuse exploitation zookeeper caitlin henderson ended lockdown spider official people disease april initially announced norwegian holiday others country midjune swede several incident crackdown oromia amnesty international resident holding overseas passport could route citizenship several incident crackdown oromia amnesty international resident holding overseas passport could route citizenship cannabis residue found altar ancient desert temple israel school reopened forced spike actress gabrielle union series toxic environment email haveyoursaybbccouk'"
            ]
          },
          "metadata": {
            "tags": []
          },
          "execution_count": 35
        }
      ]
    },
    {
      "cell_type": "markdown",
      "metadata": {
        "id": "3iIqx0oL0lLr",
        "colab_type": "text"
      },
      "source": [
        "# Running the model\n",
        "\n",
        "Vectorized the data and transformed to input in the final LDA model."
      ]
    },
    {
      "cell_type": "code",
      "metadata": {
        "id": "gxxpmJH10lLr",
        "colab_type": "code",
        "colab": {}
      },
      "source": [
        "cv = CountVectorizer(stop_words='english')"
      ],
      "execution_count": 0,
      "outputs": []
    },
    {
      "cell_type": "code",
      "metadata": {
        "id": "p-FiRBtf0lLt",
        "colab_type": "code",
        "colab": {}
      },
      "source": [
        "data_cv = cv.fit_transform(final_words)"
      ],
      "execution_count": 0,
      "outputs": []
    },
    {
      "cell_type": "code",
      "metadata": {
        "id": "T2oZJxri0lLw",
        "colab_type": "code",
        "colab": {}
      },
      "source": [
        "lda = LatentDirichletAllocation(n_components=10, learning_method='online',verbose=False)\n",
        "data_lda = lda.fit_transform(data_cv)"
      ],
      "execution_count": 0,
      "outputs": []
    },
    {
      "cell_type": "code",
      "metadata": {
        "id": "96OtpNLD0lLy",
        "colab_type": "code",
        "colab": {}
      },
      "source": [
        "def selected_topics(model, cv, top_n=10):\n",
        "    for idx, topic in enumerate(model.components_):\n",
        "        print(\"Topic %d:\" % (idx))\n",
        "        print([(cv.get_feature_names()[i], topic[i])\n",
        "                        for i in topic.argsort()[:-top_n - 1:-1]]) "
      ],
      "execution_count": 0,
      "outputs": []
    },
    {
      "cell_type": "markdown",
      "metadata": {
        "id": "C3d8Xc2P0lL0",
        "colab_type": "text"
      },
      "source": [
        "**Topics as output with their probability scores**"
      ]
    },
    {
      "cell_type": "code",
      "metadata": {
        "id": "67FnZzH10lL0",
        "colab_type": "code",
        "colab": {
          "base_uri": "https://localhost:8080/",
          "height": 390
        },
        "outputId": "a166ebf7-3be8-4703-e7cc-e5a50c698784"
      },
      "source": [
        "print(\"LDA Model:\")\n",
        "selected_topics(lda, cv)"
      ],
      "execution_count": 40,
      "outputs": [
        {
          "output_type": "stream",
          "text": [
            "LDA Model:\n",
            "Topic 0:\n",
            "[('people', 20.55164540762188), ('farmer', 18.926143879380547), ('fruit', 15.708053292302825), ('world', 11.673960115326539), ('zealand', 11.105455828464821), ('harvest', 11.080435269239073), ('lockdown', 10.63963040269747), ('labour', 9.645665081953467), ('field', 9.62173651805778), ('automation', 8.121535925433411)]\n",
            "Topic 1:\n",
            "[('taster', 5.100074353907571), ('people', 2.3773207211451393), ('really', 1.9553794725757592), ('research', 1.953981606178365), ('development', 1.9523003980449858), ('future', 1.9277482830712274), ('explainers', 1.9189245315837455), ('regularly', 1.910947097209835), ('content', 1.9101558672548364), ('adult', 1.9072116416613998)]\n",
            "Topic 2:\n",
            "[('recipe', 12.36753983956357), ('world', 9.535706823700785), ('series', 7.725198548672479), ('ingredient', 7.513622293359035), ('podcast', 6.651752949105763), ('favourite', 5.915226689909292), ('watch', 5.341894684620046), ('solution', 5.2630751392359665), ('information', 5.135669863011264), ('vegan', 5.133611978938077)]\n",
            "Topic 3:\n",
            "[('people', 56.35897880345031), ('waste', 39.71104048726836), ('government', 27.295326641494068), ('withnail', 26.973218947166167), ('taiwan', 20.845296779427795), ('didnt', 17.74893366561685), ('china', 17.7250001612535), ('passport', 17.59255290563019), ('student', 17.576179243919306), ('landfill', 16.08084180112375)]\n",
            "Topic 4:\n",
            "[('people', 91.69913605833976), ('world', 49.34464657467598), ('country', 34.321876944281726), ('death', 32.21834276810667), ('cancer', 29.807918292990976), ('health', 29.788780020387417), ('pandemic', 28.465118436749478), ('level', 28.003853759783254), ('disease', 26.23649493861373), ('result', 25.838313233377136)]\n",
            "Topic 5:\n",
            "[('cyclone', 11.435353568239739), ('bengal', 6.608341775283238), ('doordash', 6.57255553068532), ('storm', 5.851953856056356), ('restaurant', 5.75438862642703), ('people', 4.836097572401072), ('world', 4.540209042803163), ('india', 4.244837936436445), ('pizza', 4.213882615060516), ('coast', 3.505275368986202)]\n",
            "Topic 6:\n",
            "[('airline', 57.35794010271771), ('demand', 24.944710451979372), ('travel', 20.410103789139438), ('light', 20.282028478307513), ('aircraft', 18.834466145970136), ('technology', 17.33493577126317), ('people', 15.071877836159027), ('pricing', 14.12932666457421), ('microleds', 11.0695413513178), ('aviation', 11.04533748820525)]\n",
            "Topic 7:\n",
            "[('people', 34.03191176280071), ('advertising', 31.274830211112405), ('business', 23.969989774838737), ('support', 18.600999275019603), ('lockdown', 18.398877647454473), ('pandemic', 17.83302833228239), ('local', 15.557305933737581), ('industry', 15.198668481632275), ('company', 14.429501598341984), ('coronavirus', 13.588566827745554)]\n",
            "Topic 8:\n",
            "[('guidance', 3.511328898902672), ('people', 2.449279190409708), ('device', 2.114081679843134), ('watch', 1.9760810256626988), ('label', 1.9337021489045716), ('listen', 1.924484898975105), ('parental', 1.9164662937595174), ('control', 1.2196081780853412), ('create', 1.1652813453514117), ('browser', 1.12669566382232)]\n",
            "Topic 9:\n",
            "[('watch', 17.645226611438687), ('series', 16.258782188543016), ('trailer', 16.02310237209032), ('premiere', 16.020672027316095), ('island', 12.79994524028171), ('story', 11.53406188811154), ('guanches', 9.649048775217953), ('world', 7.2353554309811425), ('people', 6.890381628582801), ('netflix', 6.5643449298205665)]\n"
          ],
          "name": "stdout"
        }
      ]
    },
    {
      "cell_type": "markdown",
      "metadata": {
        "id": "G3ZcrxpY0lL2",
        "colab_type": "text"
      },
      "source": [
        "# Predicting topic through a Web App"
      ]
    },
    {
      "cell_type": "code",
      "metadata": {
        "id": "YBkWY8HT1Ofj",
        "colab_type": "code",
        "colab": {
          "base_uri": "https://localhost:8080/",
          "height": 49,
          "referenced_widgets": [
            "96e46040fdd0470eb033bb875699f84b",
            "e0cd754300ae45ef93b28481129b5b2d",
            "4761bd6abf054a30a38e27166ca2c167"
          ]
        },
        "outputId": "74af67d8-6592-450d-e452-f45f881c8923"
      },
      "source": [
        "Upload = widgets.FileUpload(\n",
        "    accept='',  # Accepted file extension e.g. '.txt', '.pdf', 'image/*', 'image/*,.pdf'\n",
        "    multiple=False  # True to accept multiple files upload else False\n",
        ")\n",
        "\n",
        "Upload"
      ],
      "execution_count": 49,
      "outputs": [
        {
          "output_type": "display_data",
          "data": {
            "application/vnd.jupyter.widget-view+json": {
              "model_id": "96e46040fdd0470eb033bb875699f84b",
              "version_minor": 0,
              "version_major": 2
            },
            "text/plain": [
              "FileUpload(value={}, description='Upload')"
            ]
          },
          "metadata": {
            "tags": []
          }
        }
      ]
    },
    {
      "cell_type": "code",
      "metadata": {
        "id": "_ZCelsK01TJJ",
        "colab_type": "code",
        "colab": {}
      },
      "source": [
        "with open(\"input.docx\", \"w+b\") as i:\n",
        "    i.write(Upload.data[0])"
      ],
      "execution_count": 0,
      "outputs": []
    },
    {
      "cell_type": "code",
      "metadata": {
        "id": "F9P7S8nW2-9f",
        "colab_type": "code",
        "colab": {}
      },
      "source": [
        "text = docx.Document('input.docx')"
      ],
      "execution_count": 0,
      "outputs": []
    },
    {
      "cell_type": "code",
      "metadata": {
        "id": "Sul1VFod0lL_",
        "colab_type": "code",
        "colab": {}
      },
      "source": [
        "all_paras = text.paragraphs"
      ],
      "execution_count": 0,
      "outputs": []
    },
    {
      "cell_type": "code",
      "metadata": {
        "id": "DiYxjDaL0lMA",
        "colab_type": "code",
        "colab": {
          "base_uri": "https://localhost:8080/",
          "height": 289
        },
        "outputId": "27af1699-820b-41cb-f05f-9f9e8adc58e5"
      },
      "source": [
        "text_data=[]\n",
        "for para in all_paras:\n",
        "    print(para.text)\n",
        "    text_data.append(para.text)"
      ],
      "execution_count": 53,
      "outputs": [
        {
          "output_type": "stream",
          "text": [
            "\n",
            "To Hiring Manager,\n",
            "\n",
            "I possess close to two and a half years of experience with Ameriprise Financial, a Fortune 500 financial services firm. My role there was to provide solutions to business leaders and external business partners leveraging analytical tools to derive actionable insights. I have led projects with large unstructured data in the advisors’ domain to realize the potential of coaching, certifications in financial planning and strategized transfers, adding revenue to the business. Having independently led projects in the past I have had the luxury to identify novel analytical directions and drive consumer focused, revenue generating solutions. Moreover, I have had hands on experience with SAS, Python, SQL, Excel, Tableau and R and I am also a SAS certified professional. \n",
            "\n",
            "     Post my work experience, I started a master’s in Business Analytics at the University of Cincinnati’s fast-paced environment. I worked considerably on challenging projects with a wide range of objectives like topic modelling, predicting prices and ratings for businesses, identifying customers likely to churn, simulation modelling and creating interactive tableau dashboards. In the process I developed a strong hold on identifying the key questions in any project and brushed concepts like predictive analysis, text mining, statistical modelling, data mining, natural language processing and machine learning.\n",
            "    \t\n",
            "     In addition to that, my people-centric nature, communication, and collaboration skills have afforded me to be an excellent team player and aided in building strong professional relationships. I have also been part of Leadership engagement groups and Women in Business organizations in the past, strategizing increased collaboration and interactive learning in the work environment. \n",
            "\n",
            "    Moreover, being from an Operations, financial and data centric background I would bring fresh perspective. Given my experience, skillsets and my engaging personality, I am confident that I would be a good fit.\n",
            "\n",
            "    I hope you would feel the same about me. I expect to hear from you soon.\n",
            "\n",
            "Sincerely,\n",
            "Jeevisha Anandani\n"
          ],
          "name": "stdout"
        }
      ]
    },
    {
      "cell_type": "code",
      "metadata": {
        "id": "A70bDk8X0lME",
        "colab_type": "code",
        "colab": {}
      },
      "source": [
        "article = re.sub('[^a-zA-Z0-9]{3,}', ' ', str(text_data))\n",
        "article = re.sub('\\[.*?\\]', '', article)\n",
        "article = re.sub('[%s]' % re.escape(string.punctuation), '', article)\n",
        "article = re.sub('\\w*\\d\\w*', '', article)\n",
        "article = re.sub('[‘’“”…]', '', article)\n",
        "article = re.sub('\\n', '', article)\n",
        "article = article.lower()\n",
        "article = article.split()        \n",
        "lmtzr = WordNetLemmatizer()\n",
        "article =  [lmtzr.lemmatize(word) for word in article if word not in (stop_words)]\n",
        "article = ' '.join(article)\n",
        "Cleaned_Data = article"
      ],
      "execution_count": 0,
      "outputs": []
    },
    {
      "cell_type": "code",
      "metadata": {
        "id": "kJwcw7vz0lMH",
        "colab_type": "code",
        "colab": {
          "base_uri": "https://localhost:8080/",
          "height": 54
        },
        "outputId": "a56ca178-4f52-4020-e7f6-daff7a6880bf"
      },
      "source": [
        "Cleaned_Data"
      ],
      "execution_count": 55,
      "outputs": [
        {
          "output_type": "execute_result",
          "data": {
            "text/plain": [
              "'hiring manager posse close two half year experience ameriprise financial fortune financial service firm role provide solution business leader external business partner leveraging analytical tool derive actionable insight led project large unstructured data advisor domain realize potential coaching certification financial planning strategized transfer adding revenue business independently led project past luxury identify novel analytical direction drive consumer focused revenue generating solution moreover hand experience sa python sql excel tableau r also sa certified professional post work experience started master business analytics university cincinnati fastpaced environment worked considerably challenging project wide range objective like topic modelling predicting price rating business identifying customer likely churn simulation modelling creating interactive tableau dashboard process developed strong hold identifying key question project brushed concept like predictive analysis text mining statistical modelling data mining natural language processing machine learning addition peoplecentric nature communication collaboration skill afforded excellent team player aided building strong professional relationship also part leadership engagement group woman business organization past strategizing increased collaboration interactive learning work environment moreover operation financial data centric background would bring fresh perspective given experience skillsets engaging personality confident would good fit hope would feel expect hear soon sincerely jeevisha anandani'"
            ]
          },
          "metadata": {
            "tags": []
          },
          "execution_count": 55
        }
      ]
    },
    {
      "cell_type": "code",
      "metadata": {
        "scrolled": true,
        "id": "y_Zjze0S0lMK",
        "colab_type": "code",
        "colab": {
          "base_uri": "https://localhost:8080/",
          "height": 34
        },
        "outputId": "7498c098-a63e-43a6-bfe1-2de8cf76d1f7"
      },
      "source": [
        "type(Cleaned_Data)"
      ],
      "execution_count": 56,
      "outputs": [
        {
          "output_type": "execute_result",
          "data": {
            "text/plain": [
              "str"
            ]
          },
          "metadata": {
            "tags": []
          },
          "execution_count": 56
        }
      ]
    },
    {
      "cell_type": "code",
      "metadata": {
        "id": "68TcnmP70lMM",
        "colab_type": "code",
        "colab": {}
      },
      "source": [
        "text_list=[Cleaned_Data]"
      ],
      "execution_count": 0,
      "outputs": []
    },
    {
      "cell_type": "code",
      "metadata": {
        "id": "DJebxAFn0lMO",
        "colab_type": "code",
        "colab": {
          "base_uri": "https://localhost:8080/",
          "height": 54
        },
        "outputId": "66cd7b38-0b30-45b7-95f9-46882a58a2c5"
      },
      "source": [
        "text_list"
      ],
      "execution_count": 58,
      "outputs": [
        {
          "output_type": "execute_result",
          "data": {
            "text/plain": [
              "['hiring manager posse close two half year experience ameriprise financial fortune financial service firm role provide solution business leader external business partner leveraging analytical tool derive actionable insight led project large unstructured data advisor domain realize potential coaching certification financial planning strategized transfer adding revenue business independently led project past luxury identify novel analytical direction drive consumer focused revenue generating solution moreover hand experience sa python sql excel tableau r also sa certified professional post work experience started master business analytics university cincinnati fastpaced environment worked considerably challenging project wide range objective like topic modelling predicting price rating business identifying customer likely churn simulation modelling creating interactive tableau dashboard process developed strong hold identifying key question project brushed concept like predictive analysis text mining statistical modelling data mining natural language processing machine learning addition peoplecentric nature communication collaboration skill afforded excellent team player aided building strong professional relationship also part leadership engagement group woman business organization past strategizing increased collaboration interactive learning work environment moreover operation financial data centric background would bring fresh perspective given experience skillsets engaging personality confident would good fit hope would feel expect hear soon sincerely jeevisha anandani']"
            ]
          },
          "metadata": {
            "tags": []
          },
          "execution_count": 58
        }
      ]
    },
    {
      "cell_type": "code",
      "metadata": {
        "id": "MuQLsWbO0lMQ",
        "colab_type": "code",
        "colab": {}
      },
      "source": [
        "data_pred = cv.fit_transform(text_list)\n",
        "lda = LatentDirichletAllocation(n_components=1, learning_method='online',verbose=False)\n",
        "data_lda = lda.fit_transform(data_pred);"
      ],
      "execution_count": 0,
      "outputs": []
    },
    {
      "cell_type": "code",
      "metadata": {
        "id": "euYoybWn0lMT",
        "colab_type": "code",
        "colab": {}
      },
      "source": [
        "#lda.components_"
      ],
      "execution_count": 0,
      "outputs": []
    },
    {
      "cell_type": "code",
      "metadata": {
        "id": "I838Pyzt0lMV",
        "colab_type": "code",
        "colab": {
          "base_uri": "https://localhost:8080/",
          "height": 54
        },
        "outputId": "aab6d06c-0925-47cc-e71e-524eef44dcc7"
      },
      "source": [
        "for idx, topic in enumerate(lda.components_):\n",
        "        #print(\"Topic %d:\" % (idx))\n",
        "        print([(cv.get_feature_names()[i], topic[i])\n",
        "                        for i in topic.argsort()[:-9:-1]]) "
      ],
      "execution_count": 61,
      "outputs": [
        {
          "output_type": "stream",
          "text": [
            "[('business', 5.847246232590024), ('experience', 4.2223675733900246), ('project', 4.221565047394457), ('financial', 4.213626074489379), ('data', 3.4452555330862653), ('modelling', 3.4037473348447125), ('identifying', 2.6343787568976245), ('revenue', 2.6334688093709406)]\n"
          ],
          "name": "stdout"
        }
      ]
    },
    {
      "cell_type": "code",
      "metadata": {
        "id": "cCH8HvH00lMY",
        "colab_type": "code",
        "colab": {
          "base_uri": "https://localhost:8080/",
          "height": 34
        },
        "outputId": "66cd0faa-3b12-464d-a9f7-a96d022c5b3e"
      },
      "source": [
        "max(lda.components_[0])"
      ],
      "execution_count": 62,
      "outputs": [
        {
          "output_type": "execute_result",
          "data": {
            "text/plain": [
              "5.847246232590024"
            ]
          },
          "metadata": {
            "tags": []
          },
          "execution_count": 62
        }
      ]
    },
    {
      "cell_type": "code",
      "metadata": {
        "id": "UBaC3JSf0lMb",
        "colab_type": "code",
        "colab": {
          "base_uri": "https://localhost:8080/",
          "height": 34
        },
        "outputId": "421cdf56-b9b0-4ede-c544-a253c2f9c2de"
      },
      "source": [
        "print(sorted(lda.components_[0],reverse=True)[0:9])"
      ],
      "execution_count": 63,
      "outputs": [
        {
          "output_type": "stream",
          "text": [
            "[5.847246232590024, 4.2223675733900246, 4.221565047394457, 4.213626074489379, 3.4452555330862653, 3.4037473348447125, 2.6343787568976245, 2.6334688093709406, 2.625132040108786]\n"
          ],
          "name": "stdout"
        }
      ]
    },
    {
      "cell_type": "markdown",
      "metadata": {
        "id": "8y9Pns0E0lMd",
        "colab_type": "text"
      },
      "source": [
        "## function"
      ]
    },
    {
      "cell_type": "code",
      "metadata": {
        "id": "INoZmUa40lMd",
        "colab_type": "code",
        "colab": {}
      },
      "source": [
        "def topic_model_func(doc):\n",
        "\n",
        "    article = re.sub('[^a-zA-Z0-9]{3,}', ' ', str(text_data))\n",
        "    article = re.sub('\\[.*?\\]', '', article)\n",
        "    article = re.sub('[%s]' % re.escape(string.punctuation), '', article)\n",
        "    article = re.sub('\\w*\\d\\w*', '', article)\n",
        "    article = re.sub('[‘’“”…]', '', article)\n",
        "    article = re.sub('\\n', '', article)\n",
        "    article = article.lower()\n",
        "    article = article.split()        \n",
        "    lmtzr = WordNetLemmatizer()\n",
        "    article =  [lmtzr.lemmatize(word) for word in article if word not in (stop_words)]\n",
        "    article = ' '.join(article)\n",
        "    Cleaned_Data = article\n",
        "\n",
        "    text_list=[Cleaned_Data]\n",
        "\n",
        "    data_pred = cv.fit_transform(text_list)\n",
        "    lda = LatentDirichletAllocation(n_components=1, learning_method='online',verbose=False)\n",
        "    data_lda = lda.fit_transform(data_pred)\n",
        "\n",
        "    for idx, topic in enumerate(lda.components_):\n",
        "           print([(cv.get_feature_names()[i]) for i in topic.argsort()[:-9:-1]])"
      ],
      "execution_count": 0,
      "outputs": []
    },
    {
      "cell_type": "code",
      "metadata": {
        "id": "UuPgTk6A6N7C",
        "colab_type": "code",
        "colab": {
          "base_uri": "https://localhost:8080/",
          "height": 34
        },
        "outputId": "a29c503a-9b6d-496b-d2d2-2b07eea53291"
      },
      "source": [
        "topic_model_func(doc=text_data)"
      ],
      "execution_count": 67,
      "outputs": [
        {
          "output_type": "stream",
          "text": [
            "['business', 'financial', 'experience', 'project', 'modelling', 'data', 'like', 'led']\n"
          ],
          "name": "stdout"
        }
      ]
    },
    {
      "cell_type": "code",
      "metadata": {
        "id": "1dLYdnNr0lMl",
        "colab_type": "code",
        "colab": {}
      },
      "source": [
        "Button = widgets.Button(\n",
        "    description='Click me',\n",
        "    disabled=False,\n",
        "    button_style='', # 'success', 'info', 'warning', 'danger' or ''\n",
        "    tooltip='Click me',\n",
        "    icon='check'\n",
        ")"
      ],
      "execution_count": 0,
      "outputs": []
    },
    {
      "cell_type": "code",
      "metadata": {
        "id": "4EdT4Pin7EP8",
        "colab_type": "code",
        "colab": {
          "base_uri": "https://localhost:8080/",
          "height": 66,
          "referenced_widgets": [
            "57290ee021ea44eaa9f89b5a55124691",
            "26c6d4384b6b4630b9a64811d7200b6d",
            "89a3a399eeec4b598490199e76c25fb5"
          ]
        },
        "outputId": "9201c366-79f7-4dce-c163-9eb64ea9fab6"
      },
      "source": [
        "Button"
      ],
      "execution_count": 69,
      "outputs": [
        {
          "output_type": "display_data",
          "data": {
            "application/vnd.jupyter.widget-view+json": {
              "model_id": "57290ee021ea44eaa9f89b5a55124691",
              "version_minor": 0,
              "version_major": 2
            },
            "text/plain": [
              "Button(description='Click me', icon='check', style=ButtonStyle(), tooltip='Click me')"
            ]
          },
          "metadata": {
            "tags": []
          }
        },
        {
          "output_type": "stream",
          "text": [
            "['business', 'financial', 'experience', 'project', 'modelling', 'data', 'collaboration', 'professional']\n"
          ],
          "name": "stdout"
        }
      ]
    },
    {
      "cell_type": "code",
      "metadata": {
        "id": "8WtehVPR5qU_",
        "colab_type": "code",
        "colab": {}
      },
      "source": [
        "Button.on_click(topic_model_func)"
      ],
      "execution_count": 0,
      "outputs": []
    },
    {
      "cell_type": "code",
      "metadata": {
        "id": "548Kb8M553US",
        "colab_type": "code",
        "colab": {}
      },
      "source": [
        ""
      ],
      "execution_count": 0,
      "outputs": []
    }
  ]
}